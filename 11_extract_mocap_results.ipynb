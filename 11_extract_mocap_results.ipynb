{
 "cells": [
  {
   "cell_type": "markdown",
   "metadata": {},
   "source": [
    "### Run FrankMoCap on saved images in `./images/NAME_clip/scene_XXXXXXX.jpg`"
   ]
  },
  {
   "cell_type": "code",
   "execution_count": 1,
   "metadata": {},
   "outputs": [
    {
     "name": "stdout",
     "output_type": "stream",
     "text": [
      "Done.\n"
     ]
    }
   ],
   "source": [
    "import config,csv,glob,os,subprocess\n",
    "print (\"Done.\")"
   ]
  },
  {
   "cell_type": "markdown",
   "metadata": {},
   "source": [
    "### We will only process videos in `./source_videos`"
   ]
  },
  {
   "cell_type": "code",
   "execution_count": 2,
   "metadata": {},
   "outputs": [
    {
     "name": "stdout",
     "output_type": "stream",
     "text": [
      "Name:[MVI_0005] [0.00]s~[0.00]s\n",
      "Name:[1X5A1788] [0.00]s~[0.00]s\n",
      "Name:[1X5A1789] [0.00]s~[0.00]s\n",
      "Name:[1X5A1790] [0.00]s~[0.00]s\n",
      "Name:[MVI_0003] [0.00]s~[0.00]s\n",
      "Name:[MVI_0004] [0.00]s~[0.00]s\n",
      "video_ids:['MVI_0005', '1X5A1788', '1X5A1789', '1X5A1790', 'MVI_0003', 'MVI_0004']\n"
     ]
    }
   ],
   "source": [
    "csv_path = './video_path.csv'\n",
    "name_and_time = dict()\n",
    "with open(csv_path) as csv_file:\n",
    "    csv_reader = csv.reader(csv_file, delimiter=',')\n",
    "    cnt = 0\n",
    "    for row in csv_reader:\n",
    "        if cnt > 0: # skip the first line (header)\n",
    "            name_and_time[row[0]] = (float(row[1]), float(row[2]))\n",
    "        cnt += 1\n",
    "# Get video IDs\n",
    "video_ids = []\n",
    "for vid_name,(s_t,e_t) in name_and_time.items():\n",
    "    print (\"Name:[%s] [%.2f]s~[%.2f]s\"%(vid_name,s_t,e_t))\n",
    "    video_ids.append(vid_name)\n",
    "n_vid = len(video_ids)\n",
    "print (\"video_ids:%s\"%(video_ids))"
   ]
  },
  {
   "cell_type": "markdown",
   "metadata": {},
   "source": [
    "### Prepare mocap directories to `./mocaps/NAME`"
   ]
  },
  {
   "cell_type": "code",
   "execution_count": 3,
   "metadata": {},
   "outputs": [
    {
     "name": "stdout",
     "output_type": "stream",
     "text": [
      "[mocaps/MVI_0005] created.\n",
      "[mocaps/1X5A1788] created.\n",
      "[mocaps/1X5A1789] created.\n",
      "[mocaps/1X5A1790] created.\n",
      "[mocaps/MVI_0003] created.\n",
      "[mocaps/MVI_0004] created.\n",
      "Done.\n"
     ]
    }
   ],
   "source": [
    "for vid_name,(s_t,e_t) in name_and_time.items():\n",
    "    folder_dir = os.path.join(config.mocap_dir,vid_name)\n",
    "    os.makedirs(folder_dir,exist_ok=True) # make dir \n",
    "    print (\"[%s] created.\"%(folder_dir))\n",
    "print (\"Done.\")"
   ]
  },
  {
   "cell_type": "markdown",
   "metadata": {},
   "source": [
    "### Run FrankMoCap\n",
    "- `./mocaps/NAME/bbox/scene_XXXX_bbox.json`\n",
    "- `./mocaps/NAME/mocapsecne_XXXX_prediction_result.pkl`"
   ]
  },
  {
   "cell_type": "markdown",
   "metadata": {},
   "source": [
    "Absolute directory"
   ]
  },
  {
   "cell_type": "code",
   "execution_count": 4,
   "metadata": {},
   "outputs": [
    {
     "name": "stdout",
     "output_type": "stream",
     "text": [
      "/daintlab/home/rilab/github/frankmocap_notebooks/mocaps\n"
     ]
    }
   ],
   "source": [
    "mocap_abs_dir = os.path.join(config.repo_abs_path,config.mocap_dir)\n",
    "print (mocap_abs_dir) "
   ]
  },
  {
   "cell_type": "code",
   "execution_count": 5,
   "metadata": {},
   "outputs": [
    {
     "name": "stdout",
     "output_type": "stream",
     "text": [
      "Change directory to [/daintlab/home/rilab/github/frankmocap_notebooks/frankmocap]\n",
      "[0/6][MVI_0005]\n",
      "[1/6][1X5A1788]\n",
      "[2/6][1X5A1789]\n",
      "[3/6][1X5A1790]\n",
      "[4/6][MVI_0003]\n",
      "[5/6][MVI_0004]\n",
      "Change directory to [/daintlab/home/rilab/github/frankmocap_notebooks]\n",
      "Done.\n"
     ]
    }
   ],
   "source": [
    "folder_path = os.path.join(config.repo_abs_path,'frankmocap')\n",
    "os.chdir(folder_path) # change the working directory\n",
    "print (\"Change directory to [%s]\"%(folder_path))\n",
    "\n",
    "for v_idx,video_id in enumerate(video_ids):\n",
    "    print (\"[%d/%d][%s]\"%(v_idx,len(video_ids),video_id))\n",
    "    input_path = os.path.join(config.repo_abs_path,'images',video_id)\n",
    "    out_dir = os.path.join(mocap_abs_dir,video_id)\n",
    "    cmd = ['python', '-m', 'demo.demo_frankmocap', \n",
    "           '--input_path', input_path, \n",
    "           '--out_dir', out_dir,\n",
    "           '--save_pred_pkl', '--no_display', '--save_bbox_output'] \n",
    "    subprocess.run(cmd) # run the frank mocap \n",
    "\n",
    "os.chdir(config.repo_abs_path)\n",
    "print (\"Change directory to [%s]\"%(config.repo_abs_path))\n",
    "print (\"Done.\")    "
   ]
  },
  {
   "cell_type": "code",
   "execution_count": null,
   "metadata": {},
   "outputs": [],
   "source": []
  }
 ],
 "metadata": {
  "kernelspec": {
   "display_name": "Python 3",
   "language": "python",
   "name": "python3"
  },
  "language_info": {
   "codemirror_mode": {
    "name": "ipython",
    "version": 3
   },
   "file_extension": ".py",
   "mimetype": "text/x-python",
   "name": "python",
   "nbconvert_exporter": "python",
   "pygments_lexer": "ipython3",
   "version": "3.8.5"
  }
 },
 "nbformat": 4,
 "nbformat_minor": 4
}
