{
 "cells": [
  {
   "cell_type": "markdown",
   "metadata": {},
   "source": [
    "# Run FrankMoCap from mp4 videos"
   ]
  },
  {
   "cell_type": "markdown",
   "metadata": {},
   "source": [
    "- look for videos in ```./source_videos``` folder specified in ```./video_path.csv```\n",
    "- Save clipped videos to ```./source_videos/NAME_clip.mp4```"
   ]
  },
  {
   "cell_type": "code",
   "execution_count": 1,
   "metadata": {
    "scrolled": true
   },
   "outputs": [
    {
     "name": "stdout",
     "output_type": "stream",
     "text": [
      "Done.\n",
      "Name:[MVI_0003] [0.00]s~[0.00]s\n",
      "Name:[MVI_0004] [0.00]s~[0.00]s\n",
      "Name:[MVI_0005] [0.00]s~[0.00]s\n",
      "Name:[1X5A1788] [0.00]s~[0.00]s\n",
      "Name:[1X5A1789] [0.00]s~[0.00]s\n",
      "Name:[1X5A1790] [0.00]s~[0.00]s\n",
      "video_ids:['MVI_0003', 'MVI_0004', 'MVI_0005', '1X5A1788', '1X5A1789', '1X5A1790']\n"
     ]
    },
    {
     "name": "stderr",
     "output_type": "stream",
     "text": [
      "chunk:   4%|▍         | 90/2259 [00:00<00:02, 899.72it/s, now=None]"
     ]
    },
    {
     "name": "stdout",
     "output_type": "stream",
     "text": [
      "Moviepy - Building video ./source_videos/MVI_0003_clip.mp4.\n",
      "MoviePy - Writing audio in MVI_0003_clipTEMP_MPY_wvf_snd.mp3\n"
     ]
    },
    {
     "name": "stderr",
     "output_type": "stream",
     "text": [
      "t:   1%|          | 6/1025 [00:00<00:19, 53.04it/s, now=None]         "
     ]
    },
    {
     "name": "stdout",
     "output_type": "stream",
     "text": [
      "MoviePy - Done.\n",
      "Moviepy - Writing video ./source_videos/MVI_0003_clip.mp4\n",
      "\n"
     ]
    },
    {
     "name": "stderr",
     "output_type": "stream",
     "text": [
      "                                                                \r"
     ]
    },
    {
     "name": "stdout",
     "output_type": "stream",
     "text": [
      "Moviepy - Done !\n",
      "Moviepy - video ready ./source_videos/MVI_0003_clip.mp4\n",
      "[0/6](0.0~0.0) [./source_videos/MVI_0003.mp4]=>[./source_videos/MVI_0003_clip.mp4]\n"
     ]
    },
    {
     "name": "stderr",
     "output_type": "stream",
     "text": [
      "chunk:   4%|▍         | 88/2124 [00:00<00:02, 877.72it/s, now=None]"
     ]
    },
    {
     "name": "stdout",
     "output_type": "stream",
     "text": [
      "Moviepy - Building video ./source_videos/MVI_0004_clip.mp4.\n",
      "MoviePy - Writing audio in MVI_0004_clipTEMP_MPY_wvf_snd.mp3\n"
     ]
    },
    {
     "name": "stderr",
     "output_type": "stream",
     "text": [
      "t:   1%|          | 6/964 [00:00<00:16, 59.30it/s, now=None]         "
     ]
    },
    {
     "name": "stdout",
     "output_type": "stream",
     "text": [
      "MoviePy - Done.\n",
      "Moviepy - Writing video ./source_videos/MVI_0004_clip.mp4\n",
      "\n"
     ]
    },
    {
     "name": "stderr",
     "output_type": "stream",
     "text": [
      "                                                              \r"
     ]
    },
    {
     "name": "stdout",
     "output_type": "stream",
     "text": [
      "Moviepy - Done !\n",
      "Moviepy - video ready ./source_videos/MVI_0004_clip.mp4\n",
      "[1/6](0.0~0.0) [./source_videos/MVI_0004.mp4]=>[./source_videos/MVI_0004_clip.mp4]\n"
     ]
    },
    {
     "name": "stderr",
     "output_type": "stream",
     "text": [
      "chunk:   6%|▋         | 86/1352 [00:00<00:01, 858.19it/s, now=None]"
     ]
    },
    {
     "name": "stdout",
     "output_type": "stream",
     "text": [
      "Moviepy - Building video ./source_videos/MVI_0005_clip.mp4.\n",
      "MoviePy - Writing audio in MVI_0005_clipTEMP_MPY_wvf_snd.mp3\n"
     ]
    },
    {
     "name": "stderr",
     "output_type": "stream",
     "text": [
      "t:   1%|          | 6/613 [00:00<00:11, 54.60it/s, now=None]         "
     ]
    },
    {
     "name": "stdout",
     "output_type": "stream",
     "text": [
      "MoviePy - Done.\n",
      "Moviepy - Writing video ./source_videos/MVI_0005_clip.mp4\n",
      "\n"
     ]
    },
    {
     "name": "stderr",
     "output_type": "stream",
     "text": [
      "                                                              \r"
     ]
    },
    {
     "name": "stdout",
     "output_type": "stream",
     "text": [
      "Moviepy - Done !\n",
      "Moviepy - video ready ./source_videos/MVI_0005_clip.mp4\n",
      "[2/6](0.0~0.0) [./source_videos/MVI_0005.mp4]=>[./source_videos/MVI_0005_clip.mp4]\n"
     ]
    },
    {
     "name": "stderr",
     "output_type": "stream",
     "text": [
      "chunk:   5%|▌         | 102/2004 [00:00<00:01, 973.88it/s, now=None]"
     ]
    },
    {
     "name": "stdout",
     "output_type": "stream",
     "text": [
      "Moviepy - Building video ./source_videos/1X5A1788_clip.mp4.\n",
      "MoviePy - Writing audio in 1X5A1788_clipTEMP_MPY_wvf_snd.mp3\n"
     ]
    },
    {
     "name": "stderr",
     "output_type": "stream",
     "text": [
      "t:   1%|          | 6/909 [00:00<00:17, 51.94it/s, now=None]          "
     ]
    },
    {
     "name": "stdout",
     "output_type": "stream",
     "text": [
      "MoviePy - Done.\n",
      "Moviepy - Writing video ./source_videos/1X5A1788_clip.mp4\n",
      "\n"
     ]
    },
    {
     "name": "stderr",
     "output_type": "stream",
     "text": [
      "                                                              \r"
     ]
    },
    {
     "name": "stdout",
     "output_type": "stream",
     "text": [
      "Moviepy - Done !\n",
      "Moviepy - video ready ./source_videos/1X5A1788_clip.mp4\n",
      "[3/6](0.0~0.0) [./source_videos/1X5A1788.mp4]=>[./source_videos/1X5A1788_clip.mp4]\n"
     ]
    },
    {
     "name": "stderr",
     "output_type": "stream",
     "text": [
      "chunk:   5%|▌         | 102/1889 [00:00<00:01, 980.67it/s, now=None]"
     ]
    },
    {
     "name": "stdout",
     "output_type": "stream",
     "text": [
      "Moviepy - Building video ./source_videos/1X5A1789_clip.mp4.\n",
      "MoviePy - Writing audio in 1X5A1789_clipTEMP_MPY_wvf_snd.mp3\n"
     ]
    },
    {
     "name": "stderr",
     "output_type": "stream",
     "text": [
      "t:   1%|          | 6/857 [00:00<00:16, 52.09it/s, now=None]          "
     ]
    },
    {
     "name": "stdout",
     "output_type": "stream",
     "text": [
      "MoviePy - Done.\n",
      "Moviepy - Writing video ./source_videos/1X5A1789_clip.mp4\n",
      "\n"
     ]
    },
    {
     "name": "stderr",
     "output_type": "stream",
     "text": [
      "                                                              \r"
     ]
    },
    {
     "name": "stdout",
     "output_type": "stream",
     "text": [
      "Moviepy - Done !\n",
      "Moviepy - video ready ./source_videos/1X5A1789_clip.mp4\n",
      "[4/6](0.0~0.0) [./source_videos/1X5A1789.mp4]=>[./source_videos/1X5A1789_clip.mp4]\n"
     ]
    },
    {
     "name": "stderr",
     "output_type": "stream",
     "text": [
      "chunk:   7%|▋         | 102/1389 [00:00<00:01, 930.16it/s, now=None]"
     ]
    },
    {
     "name": "stdout",
     "output_type": "stream",
     "text": [
      "Moviepy - Building video ./source_videos/1X5A1790_clip.mp4.\n",
      "MoviePy - Writing audio in 1X5A1790_clipTEMP_MPY_wvf_snd.mp3\n"
     ]
    },
    {
     "name": "stderr",
     "output_type": "stream",
     "text": [
      "t:   1%|          | 6/630 [00:00<00:11, 55.24it/s, now=None]          "
     ]
    },
    {
     "name": "stdout",
     "output_type": "stream",
     "text": [
      "MoviePy - Done.\n",
      "Moviepy - Writing video ./source_videos/1X5A1790_clip.mp4\n",
      "\n"
     ]
    },
    {
     "name": "stderr",
     "output_type": "stream",
     "text": [
      "                                                              \r"
     ]
    },
    {
     "name": "stdout",
     "output_type": "stream",
     "text": [
      "Moviepy - Done !\n",
      "Moviepy - video ready ./source_videos/1X5A1790_clip.mp4\n",
      "[5/6](0.0~0.0) [./source_videos/1X5A1790.mp4]=>[./source_videos/1X5A1790_clip.mp4]\n",
      "Done.\n",
      "[././images] created.\n",
      "\n",
      "[0/6] [1025] images saved from [./source_videos/MVI_0003_clip.mp4] to [./images/MVI_0003].\n",
      "[1/6] [964] images saved from [./source_videos/MVI_0004_clip.mp4] to [./images/MVI_0004].\n",
      "[2/6] [613] images saved from [./source_videos/MVI_0005_clip.mp4] to [./images/MVI_0005].\n",
      "[3/6] [909] images saved from [./source_videos/1X5A1788_clip.mp4] to [./images/1X5A1788].\n",
      "[4/6] [857] images saved from [./source_videos/1X5A1789_clip.mp4] to [./images/1X5A1789].\n",
      "[5/6] [630] images saved from [./source_videos/1X5A1790_clip.mp4] to [./images/1X5A1790].\n",
      "Done.\n"
     ]
    }
   ],
   "source": [
    "%run 10_process_mp4_videos.ipynb"
   ]
  },
  {
   "cell_type": "markdown",
   "metadata": {},
   "source": [
    "#### Save frankmocap results to ```./mocaps/NAME```"
   ]
  },
  {
   "cell_type": "code",
   "execution_count": null,
   "metadata": {
    "scrolled": true
   },
   "outputs": [
    {
     "name": "stdout",
     "output_type": "stream",
     "text": [
      "Done.\n",
      "Name:[MVI_0003] [0.00]s~[0.00]s\n",
      "Name:[MVI_0004] [0.00]s~[0.00]s\n",
      "Name:[MVI_0005] [0.00]s~[0.00]s\n",
      "Name:[1X5A1788] [0.00]s~[0.00]s\n",
      "Name:[1X5A1789] [0.00]s~[0.00]s\n",
      "Name:[1X5A1790] [0.00]s~[0.00]s\n",
      "video_ids:['MVI_0003', 'MVI_0004', 'MVI_0005', '1X5A1788', '1X5A1789', '1X5A1790']\n",
      "[mocaps/MVI_0003] created.\n",
      "[mocaps/MVI_0004] created.\n",
      "[mocaps/MVI_0005] created.\n",
      "[mocaps/1X5A1788] created.\n",
      "[mocaps/1X5A1789] created.\n",
      "[mocaps/1X5A1790] created.\n",
      "Done.\n",
      "/daintlab/home/rilab/github/frankmocap_notebooks/mocaps\n",
      "Change directory to [/daintlab/home/rilab/github/frankmocap_notebooks/frankmocap]\n",
      "[0/6][MVI_0003]\n",
      "[1/6][MVI_0004]\n",
      "[2/6][MVI_0005]\n",
      "[3/6][1X5A1788]\n",
      "[4/6][1X5A1789]\n",
      "[5/6][1X5A1790]\n"
     ]
    }
   ],
   "source": [
    "os.environ['MKL_THREADING_LAYER'] = 'GNU'\n",
    "%run 11_extract_mocap_results.ipynb"
   ]
  },
  {
   "cell_type": "markdown",
   "metadata": {},
   "source": [
    "#### Things will be saved into ```./skeletons_npz/NAME```"
   ]
  },
  {
   "cell_type": "code",
   "execution_count": null,
   "metadata": {
    "scrolled": true
   },
   "outputs": [],
   "source": [
    "%run 12_preprocess_mocap_result.ipynb"
   ]
  },
  {
   "cell_type": "code",
   "execution_count": null,
   "metadata": {
    "scrolled": true
   },
   "outputs": [],
   "source": [
    "%run 13_visualize_processed_pkl_and_npz.ipynb"
   ]
  },
  {
   "cell_type": "markdown",
   "metadata": {},
   "source": [
    "#### Things will be saved into ```./videos/NAME_final.mp4```"
   ]
  },
  {
   "cell_type": "code",
   "execution_count": null,
   "metadata": {},
   "outputs": [
    {
     "name": "stdout",
     "output_type": "stream",
     "text": [
      "Moviepy - Building video videos/MVI_0004_final.mp4.\n",
      "Moviepy - Writing video videos/MVI_0004_final.mp4\n",
      "\n"
     ]
    },
    {
     "name": "stderr",
     "output_type": "stream",
     "text": [
      "                                                              \r"
     ]
    },
    {
     "name": "stdout",
     "output_type": "stream",
     "text": [
      "Moviepy - Done !\n",
      "Moviepy - video ready videos/MVI_0004_final.mp4\n",
      "[videos/MVI_0004_final.mp4] saved.\n",
      "[2/6] [MVI_0005]\n",
      "Moviepy - Building video videos/MVI_0005_final.mp4.\n",
      "Moviepy - Writing video videos/MVI_0005_final.mp4\n",
      "\n"
     ]
    },
    {
     "name": "stderr",
     "output_type": "stream",
     "text": [
      "                                                               \r"
     ]
    },
    {
     "name": "stdout",
     "output_type": "stream",
     "text": [
      "Moviepy - Done !\n",
      "Moviepy - video ready videos/MVI_0005_final.mp4\n",
      "[videos/MVI_0005_final.mp4] saved.\n",
      "[3/6] [1X5A1788]\n",
      "Moviepy - Building video videos/1X5A1788_final.mp4.\n",
      "Moviepy - Writing video videos/1X5A1788_final.mp4\n",
      "\n"
     ]
    },
    {
     "name": "stderr",
     "output_type": "stream",
     "text": [
      "                                                              \r"
     ]
    },
    {
     "name": "stdout",
     "output_type": "stream",
     "text": [
      "Moviepy - Done !\n",
      "Moviepy - video ready videos/1X5A1788_final.mp4\n",
      "[videos/1X5A1788_final.mp4] saved.\n",
      "[4/6] [1X5A1789]\n",
      "Moviepy - Building video videos/1X5A1789_final.mp4.\n",
      "Moviepy - Writing video videos/1X5A1789_final.mp4\n",
      "\n"
     ]
    },
    {
     "name": "stderr",
     "output_type": "stream",
     "text": [
      "                                                               \r"
     ]
    },
    {
     "name": "stdout",
     "output_type": "stream",
     "text": [
      "Moviepy - Done !\n",
      "Moviepy - video ready videos/1X5A1789_final.mp4\n",
      "[videos/1X5A1789_final.mp4] saved.\n",
      "[5/6] [1X5A1790]\n"
     ]
    }
   ],
   "source": [
    "%run 14_make_video.ipynb"
   ]
  },
  {
   "cell_type": "code",
   "execution_count": null,
   "metadata": {},
   "outputs": [],
   "source": [
    "print (\"Done\")"
   ]
  },
  {
   "cell_type": "code",
   "execution_count": null,
   "metadata": {},
   "outputs": [],
   "source": []
  }
 ],
 "metadata": {
  "kernelspec": {
   "display_name": "Python 3",
   "language": "python",
   "name": "python3"
  },
  "language_info": {
   "codemirror_mode": {
    "name": "ipython",
    "version": 3
   },
   "file_extension": ".py",
   "mimetype": "text/x-python",
   "name": "python",
   "nbconvert_exporter": "python",
   "pygments_lexer": "ipython3",
   "version": "3.8.5"
  }
 },
 "nbformat": 4,
 "nbformat_minor": 4
}
