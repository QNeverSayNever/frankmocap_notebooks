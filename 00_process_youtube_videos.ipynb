{
 "cells": [
  {
   "cell_type": "markdown",
   "metadata": {},
   "source": [
    "### This notebook saves YouTube videos listed in ./video_url.csv to a folder named ./video\n",
    "- Video's name would be its ID in YouTube\n",
    "- CSV needs to contain video_url,start_sec,end_sec\n",
    "\n",
    "### After that, the frames of videos are extracted to ./images\n",
    "- For example, the image frames of 'abcdefghi.mp4' would be extracted into './images/abcdefghi/scene_00000001.jpg'"
   ]
  },
  {
   "cell_type": "code",
   "execution_count": 1,
   "metadata": {},
   "outputs": [],
   "source": [
    "import csv\n",
    "import config\n",
    "import os\n",
    "import youtube_dl\n",
    "import cv2\n",
    "from moviepy.editor import *"
   ]
  },
  {
   "cell_type": "code",
   "execution_count": 2,
   "metadata": {},
   "outputs": [
    {
     "name": "stdout",
     "output_type": "stream",
     "text": [
      "{'https://www.youtube.com/watch?v=9WhpAVOSyl8': (25.0, 55.0)}\n"
     ]
    }
   ],
   "source": [
    "url_and_time = dict()\n",
    "with open('video_url.csv') as csv_file:\n",
    "    csv_reader = csv.reader(csv_file, delimiter=',')\n",
    "    cnt = 0\n",
    "    for row in csv_reader:\n",
    "        if cnt > 0:\n",
    "            url_and_time[row[0]] = (float(row[1]), float(row[2]))\n",
    "        cnt += 1\n",
    "print(url_and_time)"
   ]
  },
  {
   "cell_type": "code",
   "execution_count": 3,
   "metadata": {},
   "outputs": [],
   "source": [
    "os.makedirs(config.video_dir, exist_ok=True)"
   ]
  },
  {
   "cell_type": "code",
   "execution_count": 4,
   "metadata": {},
   "outputs": [
    {
     "name": "stdout",
     "output_type": "stream",
     "text": [
      "Processing 9WhpAVOSyl8_tmp.mp4\n",
      "[youtube] 9WhpAVOSyl8: Downloading webpage\n",
      "[download] Destination: videos/9WhpAVOSyl8_tmp.mp4\n",
      "[download] 100% of 41.13MiB in 00:0199MiB/s ETA 00:004\n"
     ]
    },
    {
     "name": "stderr",
     "output_type": "stream",
     "text": [
      "chunk:   7%|▋         | 46/662 [00:00<00:01, 451.64it/s, now=None]"
     ]
    },
    {
     "name": "stdout",
     "output_type": "stream",
     "text": [
      "FPS:  30.0 --------------> 10\n",
      "Moviepy - Building video videos/9WhpAVOSyl8.mp4.\n",
      "MoviePy - Writing audio in 9WhpAVOSyl8TEMP_MPY_wvf_snd.mp3\n"
     ]
    },
    {
     "name": "stderr",
     "output_type": "stream",
     "text": [
      "t:   2%|▏         | 5/300 [00:00<00:06, 42.76it/s, now=None]       "
     ]
    },
    {
     "name": "stdout",
     "output_type": "stream",
     "text": [
      "MoviePy - Done.\n",
      "Moviepy - Writing video videos/9WhpAVOSyl8.mp4\n",
      "\n"
     ]
    },
    {
     "name": "stderr",
     "output_type": "stream",
     "text": [
      "                                                              \r"
     ]
    },
    {
     "name": "stdout",
     "output_type": "stream",
     "text": [
      "Moviepy - Done !\n",
      "Moviepy - video ready videos/9WhpAVOSyl8.mp4\n"
     ]
    }
   ],
   "source": [
    "for u, (s_t, e_t) in url_and_time.items():\n",
    "    fname = u.split(\"=\")[1] + '_tmp.mp4'\n",
    "    print('Processing {}'.format(fname))\n",
    "    ydl_opts = {'outtmpl': os.path.join(config.video_dir, fname), 'format': 'mp4'}\n",
    "    with youtube_dl.YoutubeDL(ydl_opts) as ydl:\n",
    "        ydl.download([u])\n",
    "video_files = [os.path.join(config.video_dir, fp) for fp in os.listdir(config.video_dir) if fp[0]!='.']\n",
    "for fp in video_files:\n",
    "    (s_t, e_t) = url_and_time['https://www.youtube.com/watch?v='+fp.split('/')[-1].split('_tmp')[0]]\n",
    "    clip = VideoFileClip(fp).subclip(s_t, e_t)\n",
    "    clip = clip.resize(height=config.vid_height)\n",
    "    if config.fps != -1:\n",
    "        print('FPS: ', clip.fps, '-------------->', config.fps)\n",
    "        clip.write_videofile(fp.replace('_tmp', ''), fps=config.fps)\n",
    "    else:\n",
    "        clip.write_videofile(fp.replace('_tmp', ''))\n",
    "    clip.reader.close()\n",
    "    if '_tmp.mp4' in fp:\n",
    "        os.remove(fp)"
   ]
  },
  {
   "cell_type": "code",
   "execution_count": 5,
   "metadata": {},
   "outputs": [],
   "source": [
    "video_ids = [fp.split('.')[0] for fp in os.listdir(config.video_dir) if fp[0]!='.']"
   ]
  },
  {
   "cell_type": "code",
   "execution_count": 6,
   "metadata": {},
   "outputs": [
    {
     "name": "stdout",
     "output_type": "stream",
     "text": [
      "Reading videos/9WhpAVOSyl8.mp4\n"
     ]
    }
   ],
   "source": [
    "os.makedirs(os.path.join(config.image_dir), exist_ok=True)\n",
    "for v_id in video_ids:\n",
    "    os.makedirs(os.path.join(config.image_dir, v_id), exist_ok=True)\n",
    "    vid_fp = os.path.join(config.video_dir, v_id+'.mp4')\n",
    "    \n",
    "    print('Reading {}'.format(vid_fp))\n",
    "    \n",
    "    vidcap = cv2.VideoCapture(vid_fp)\n",
    "    success, image = vidcap.read()\n",
    "    cnt = 0\n",
    "    while success:\n",
    "        cv2.imwrite(os.path.join(config.image_dir, v_id, \"scene_{0:08}.jpg\".format(cnt)), image)\n",
    "        success, image = vidcap.read()\n",
    "        cnt += 1"
   ]
  }
 ],
 "metadata": {
  "kernelspec": {
   "display_name": "venv_frankmocap",
   "language": "python",
   "name": "venv_frankmocap"
  },
  "language_info": {
   "codemirror_mode": {
    "name": "ipython",
    "version": 3
   },
   "file_extension": ".py",
   "mimetype": "text/x-python",
   "name": "python",
   "nbconvert_exporter": "python",
   "pygments_lexer": "ipython3",
   "version": "3.7.9"
  }
 },
 "nbformat": 4,
 "nbformat_minor": 4
}
