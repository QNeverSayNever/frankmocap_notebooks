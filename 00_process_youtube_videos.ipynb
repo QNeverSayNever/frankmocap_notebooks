{
 "cells": [
  {
   "cell_type": "markdown",
   "metadata": {},
   "source": [
    "### This notebook saves YouTube videos listed in ./video_url.txt to a folder named ./video\n",
    "- Video's name would be its ID in YouTube\n",
    "\n",
    "### After that, the frames of videos are extracted to ./images\n",
    "- For example, the image frames of 'abcdefghi.mp4' would be extracted into './images/abcdefghi/scene_00000001.jpg'"
   ]
  },
  {
   "cell_type": "code",
   "execution_count": 1,
   "metadata": {},
   "outputs": [],
   "source": [
    "import config\n",
    "import os\n",
    "import youtube_dl\n",
    "import cv2\n",
    "from moviepy.editor import *"
   ]
  },
  {
   "cell_type": "code",
   "execution_count": 2,
   "metadata": {},
   "outputs": [],
   "source": [
    "f = open(config.url_filePath, 'r')\n",
    "urls = f.readlines()"
   ]
  },
  {
   "cell_type": "code",
   "execution_count": 3,
   "metadata": {},
   "outputs": [],
   "source": [
    "os.makedirs(config.video_dir, exist_ok=True)"
   ]
  },
  {
   "cell_type": "code",
   "execution_count": 4,
   "metadata": {},
   "outputs": [
    {
     "name": "stdout",
     "output_type": "stream",
     "text": [
      "Processing 93r7YErnE1o.mp4\n",
      "[youtube] 93r7YErnE1o: Downloading webpage\n",
      "[download] Destination: videos/93r7YErnE1o.mp4\n",
      "[download] 100% of 31.29MiB in 00:0192MiB/s ETA 00:008\n",
      "Processing D9H-eRIROA.mp4\n",
      "[youtube] D9H-eRIROAE: Downloading webpage\n",
      "[download] Destination: videos/D9H-eRIROA.mp4\n",
      "[download] 100% of 18.75MiB in 00:0056MiB/s ETA 00:007\n"
     ]
    }
   ],
   "source": [
    "if config.fps != -1:\n",
    "    for u in urls:\n",
    "        fname = u.split(\"=\")[1][:-1] + '_tmp.mp4'\n",
    "        print('Processing {}'.format(fname))\n",
    "        ydl_opts = {'outtmpl': os.path.join(config.video_dir, fname), 'format': 'mp4'}\n",
    "        with youtube_dl.YoutubeDL(ydl_opts) as ydl:\n",
    "            ydl.download([u])\n",
    "    video_files = [os.path.join(config.video_dir, fp) for fp in os.listdir(config.video_dir) if fp[0]!='.']\n",
    "\n",
    "    for fp in video_files:\n",
    "        clip = VideoFileClip(fp)\n",
    "        clip = clip.resize(height=config.vid_height)\n",
    "        print('FPS: ', clip.fps, '-------------->', config.fps)\n",
    "        clip.write_videofile(os.path.splitext(fp)[0].split('_tmp')[0]+os.path.splitext(fp)[1], fps=config.fps)\n",
    "        clip.reader.close()\n",
    "        if '_tmp.mp4' in fp:\n",
    "            os.remove(fp)\n",
    "else:\n",
    "    for u in urls:\n",
    "        fname = u.split(\"=\")[1][:-1] + '.mp4'\n",
    "        print('Processing {}'.format(fname))\n",
    "        ydl_opts = {'outtmpl': os.path.join(config.video_dir, fname), 'format': 'mp4'}\n",
    "        with youtube_dl.YoutubeDL(ydl_opts) as ydl:\n",
    "            ydl.download([u])"
   ]
  },
  {
   "cell_type": "code",
   "execution_count": 5,
   "metadata": {},
   "outputs": [],
   "source": [
    "video_ids = [fp.split('.')[0] for fp in os.listdir(config.video_dir) if fp[0]!='.']"
   ]
  },
  {
   "cell_type": "code",
   "execution_count": 6,
   "metadata": {},
   "outputs": [
    {
     "name": "stdout",
     "output_type": "stream",
     "text": [
      "Reading videos/D9H-eRIROA.mp4\n",
      "Reading videos/93r7YErnE1o.mp4\n"
     ]
    }
   ],
   "source": [
    "os.makedirs(os.path.join(config.image_dir), exist_ok=True)\n",
    "for v_id in video_ids:\n",
    "    os.makedirs(os.path.join(config.image_dir, v_id), exist_ok=True)\n",
    "    vid_fp = os.path.join(config.video_dir, v_id+'.mp4')\n",
    "    \n",
    "    print('Reading {}'.format(vid_fp))\n",
    "    \n",
    "    vidcap = cv2.VideoCapture(vid_fp)\n",
    "    success, image = vidcap.read()\n",
    "    cnt = 0\n",
    "    while success:\n",
    "        cv2.imwrite(os.path.join(config.image_dir, v_id, \"scene_{0:08}.jpg\".format(cnt)), image)\n",
    "        success, image = vidcap.read()\n",
    "        cnt += 1"
   ]
  },
  {
   "cell_type": "markdown",
   "metadata": {},
   "source": [
    "### Cut some frames in start and end phase (if you want)"
   ]
  },
  {
   "cell_type": "code",
   "execution_count": 7,
   "metadata": {},
   "outputs": [],
   "source": [
    "CUT_FRONT_END = True\n",
    "if CUT_FRONT_END:\n",
    "    for v_id in video_ids:\n",
    "        img_dir = os.path.join(config.image_dir, v_id)\n",
    "        for i in range(config.front_rear_cut):\n",
    "            if 'scene_{0:08}.jpg'.format(i) in os.listdir(img_dir):\n",
    "                os.remove(os.path.join(img_dir, 'scene_{0:08}.jpg'.format(i)))\n",
    "            elif 'scene_{0:08}.jpg'.format(len(os.listdir(img_dir))-i) in os.listdir(img_dir):\n",
    "                os.remove(os.path.join(img_dir, 'scene_{0:08}.jpg'.format(len(os.listdir(img_dir))-i)))    "
   ]
  }
 ],
 "metadata": {
  "kernelspec": {
   "display_name": "venv_frankmocap",
   "language": "python",
   "name": "venv_frankmocap"
  },
  "language_info": {
   "codemirror_mode": {
    "name": "ipython",
    "version": 3
   },
   "file_extension": ".py",
   "mimetype": "text/x-python",
   "name": "python",
   "nbconvert_exporter": "python",
   "pygments_lexer": "ipython3",
   "version": "3.7.9"
  }
 },
 "nbformat": 4,
 "nbformat_minor": 4
}
