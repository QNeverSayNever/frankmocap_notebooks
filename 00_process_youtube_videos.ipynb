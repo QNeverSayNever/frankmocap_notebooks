{
 "cells": [
  {
   "cell_type": "markdown",
   "metadata": {},
   "source": [
    "### This notebook saves YouTube videos listed in ./video_url.csv to a folder named ./video\n",
    "- Video's name would be its ID in YouTube\n",
    "- CSV needs to contain video_url,start_sec,end_sec\n",
    "\n",
    "### After that, the frames of videos are extracted to ./images\n",
    "- For example, the image frames of 'abcdefghi.mp4' would be extracted into './images/abcdefghi/scene_00000001.jpg'"
   ]
  },
  {
   "cell_type": "code",
   "execution_count": 1,
   "metadata": {},
   "outputs": [
    {
     "name": "stdout",
     "output_type": "stream",
     "text": [
      "Done.\n"
     ]
    }
   ],
   "source": [
    "import csv\n",
    "import config\n",
    "import os\n",
    "import youtube_dl\n",
    "import cv2\n",
    "from moviepy.editor import *\n",
    "print (\"Done.\")"
   ]
  },
  {
   "cell_type": "markdown",
   "metadata": {},
   "source": [
    "### Read video URL"
   ]
  },
  {
   "cell_type": "code",
   "execution_count": 2,
   "metadata": {},
   "outputs": [
    {
     "name": "stdout",
     "output_type": "stream",
     "text": [
      "YouTube URL:[https://www.youtube.com/watch?v=xqvCmoLULNY] [37.00]s~[42.00]s\n",
      "YouTube URL:[https://www.youtube.com/watch?v=DoZzdthrzCs] [6.00]s~[53.00]s\n"
     ]
    }
   ],
   "source": [
    "url_and_time = dict()\n",
    "with open('video_url.csv') as csv_file:\n",
    "    csv_reader = csv.reader(csv_file, delimiter=',')\n",
    "    cnt = 0\n",
    "    for row in csv_reader:\n",
    "        if cnt > 0: # skip the first line (header)\n",
    "            url_and_time[row[0]] = (float(row[1]), float(row[2]))\n",
    "        cnt += 1\n",
    "for u, (s_t, e_t) in url_and_time.items():\n",
    "    print (\"YouTube URL:[%s] [%.2f]s~[%.2f]s\"%(u,s_t,e_t))"
   ]
  },
  {
   "cell_type": "markdown",
   "metadata": {},
   "source": [
    "### Make the video directory (./videos)"
   ]
  },
  {
   "cell_type": "code",
   "execution_count": 3,
   "metadata": {},
   "outputs": [
    {
     "name": "stdout",
     "output_type": "stream",
     "text": [
      "[./videos] created.\n"
     ]
    }
   ],
   "source": [
    "os.makedirs(config.video_dir, exist_ok=True)\n",
    "print (\"[./%s] created.\"%(config.video_dir))"
   ]
  },
  {
   "cell_type": "markdown",
   "metadata": {},
   "source": [
    "### Download the full video into (.videos/NAME_full.mp4)"
   ]
  },
  {
   "cell_type": "code",
   "execution_count": 4,
   "metadata": {},
   "outputs": [
    {
     "name": "stdout",
     "output_type": "stream",
     "text": [
      "YouTube URL:[https://www.youtube.com/watch?v=xqvCmoLULNY] [37.00]s~[42.00]s\n",
      "Processing [xqvCmoLULNY_full.mp4]\n",
      "[youtube] xqvCmoLULNY: Downloading webpage\n",
      "[download] Destination: videos/xqvCmoLULNY_full.mp4\n",
      "[download] 100% of 5.03MiB in 00:0024MiB/s ETA 00:006\n",
      "YouTube URL:[https://www.youtube.com/watch?v=DoZzdthrzCs] [6.00]s~[53.00]s\n",
      "Processing [DoZzdthrzCs_full.mp4]\n",
      "[youtube] DoZzdthrzCs: Downloading webpage\n",
      "[youtube] DoZzdthrzCs: Downloading MPD manifest\n",
      "[download] Destination: videos/DoZzdthrzCs_full.mp4\n",
      "[download] 100% of 21.75MiB in 00:0039MiB/s ETA 00:006\n",
      "\n",
      "We have downloaded [2] videos.\n",
      " [xqvCmoLULNY_full.mp4]\n",
      " [DoZzdthrzCs_full.mp4]\n"
     ]
    }
   ],
   "source": [
    "for u, (s_t, e_t) in url_and_time.items():\n",
    "    print (\"YouTube URL:[%s] [%.2f]s~[%.2f]s\"%(u,s_t,e_t))\n",
    "    original_fname = u.split(\"=\")[1] + '.mp4'\n",
    "    fname = u.split(\"=\")[1] + '_full.mp4'\n",
    "    print('Processing [%s]'%(fname))\n",
    "    # YouTube download options\n",
    "    ydl_opts = {'outtmpl': os.path.join(config.video_dir, fname),'format':'mp4'}\n",
    "    with youtube_dl.YoutubeDL(ydl_opts) as ydl:\n",
    "        ydl.download([u]) # download the YouTube video \n",
    "print (\"\\nWe have downloaded [%d] videos.\"%(len(url_and_time)))\n",
    "for u, (s_t, e_t) in url_and_time.items():\n",
    "    original_fname = u.split(\"=\")[1] + '.mp4'\n",
    "    fname = u.split(\"=\")[1] + '_full.mp4'\n",
    "    print (\" [%s]\"%(fname))"
   ]
  },
  {
   "cell_type": "markdown",
   "metadata": {},
   "source": [
    "### Trim the videos into (.videos/NAME.mp4)"
   ]
  },
  {
   "cell_type": "code",
   "execution_count": 5,
   "metadata": {
    "scrolled": true
   },
   "outputs": [
    {
     "name": "stderr",
     "output_type": "stream",
     "text": [
      "chunk:  29%|██▉       | 32/111 [00:00<00:00, 301.28it/s, now=None]"
     ]
    },
    {
     "name": "stdout",
     "output_type": "stream",
     "text": [
      "FPS:  23.976023976023978 --------------> 10\n",
      "Moviepy - Building video videos/xqvCmoLULNY.mp4.\n",
      "MoviePy - Writing audio in xqvCmoLULNYTEMP_MPY_wvf_snd.mp3\n"
     ]
    },
    {
     "name": "stderr",
     "output_type": "stream",
     "text": [
      "t:  14%|█▍        | 7/50 [00:00<00:00, 60.14it/s, now=None]        "
     ]
    },
    {
     "name": "stdout",
     "output_type": "stream",
     "text": [
      "MoviePy - Done.\n",
      "Moviepy - Writing video videos/xqvCmoLULNY.mp4\n",
      "\n"
     ]
    },
    {
     "name": "stderr",
     "output_type": "stream",
     "text": [
      "                                                            \r"
     ]
    },
    {
     "name": "stdout",
     "output_type": "stream",
     "text": [
      "Moviepy - Done !\n",
      "Moviepy - video ready videos/xqvCmoLULNY.mp4\n",
      "YouTube URL:[https://www.youtube.com/watch?v=xqvCmoLULNY] [37.00]s~[42.00]s\n",
      "Full video path:[videos/xqvCmoLULNY_full.mp4]\n"
     ]
    },
    {
     "name": "stderr",
     "output_type": "stream",
     "text": [
      "chunk:   5%|▌         | 53/1037 [00:00<00:01, 529.97it/s, now=None]"
     ]
    },
    {
     "name": "stdout",
     "output_type": "stream",
     "text": [
      "FPS:  29.97002997002997 --------------> 10\n",
      "Moviepy - Building video videos/DoZzdthrzCs.mp4.\n",
      "MoviePy - Writing audio in DoZzdthrzCsTEMP_MPY_wvf_snd.mp3\n"
     ]
    },
    {
     "name": "stderr",
     "output_type": "stream",
     "text": [
      "t:   1%|▏         | 6/470 [00:00<00:09, 51.43it/s, now=None]         "
     ]
    },
    {
     "name": "stdout",
     "output_type": "stream",
     "text": [
      "MoviePy - Done.\n",
      "Moviepy - Writing video videos/DoZzdthrzCs.mp4\n",
      "\n"
     ]
    },
    {
     "name": "stderr",
     "output_type": "stream",
     "text": [
      "                                                              \r"
     ]
    },
    {
     "name": "stdout",
     "output_type": "stream",
     "text": [
      "Moviepy - Done !\n",
      "Moviepy - video ready videos/DoZzdthrzCs.mp4\n",
      "YouTube URL:[https://www.youtube.com/watch?v=DoZzdthrzCs] [6.00]s~[53.00]s\n",
      "Full video path:[videos/DoZzdthrzCs_full.mp4]\n"
     ]
    }
   ],
   "source": [
    "for u, (s_t, e_t) in url_and_time.items():\n",
    "    fname = u.split(\"=\")[1] + '_full.mp4'\n",
    "    vpath = os.path.join(config.video_dir,fname)\n",
    "    clip = VideoFileClip(vpath).subclip(s_t, e_t) # trim\n",
    "    clip = clip.resize(height=config.vid_height) # resize\n",
    "    # Save the trimmed video\n",
    "    if config.fps != -1:\n",
    "        print('FPS: ', clip.fps, '-------------->', config.fps)\n",
    "        clip.write_videofile(vpath.replace('_full', ''), fps=config.fps)\n",
    "    else:\n",
    "        clip.write_videofile(vpath.replace('_full', ''))\n",
    "    clip.reader.close()\n",
    "    print (\"YouTube URL:[%s] [%.2f]s~[%.2f]s\"%(u,s_t,e_t))\n",
    "    print (\"Full video path:[%s]\"%(vpath))"
   ]
  },
  {
   "cell_type": "markdown",
   "metadata": {},
   "source": [
    "### Save Images into (./images/NAME/scene_XXXXXX.jpg)"
   ]
  },
  {
   "cell_type": "code",
   "execution_count": 6,
   "metadata": {},
   "outputs": [
    {
     "name": "stdout",
     "output_type": "stream",
     "text": [
      "[./images] created.\n"
     ]
    }
   ],
   "source": [
    "os.makedirs(os.path.join(config.image_dir), exist_ok=True)\n",
    "print (\"[./%s] created.\"%(config.image_dir))"
   ]
  },
  {
   "cell_type": "code",
   "execution_count": 7,
   "metadata": {},
   "outputs": [
    {
     "name": "stdout",
     "output_type": "stream",
     "text": [
      "Reading [videos/xqvCmoLULNY.mp4]\n",
      "[50] images saved.\n",
      "Reading [videos/DoZzdthrzCs.mp4]\n",
      "[470] images saved.\n"
     ]
    }
   ],
   "source": [
    "for u, (s_t, e_t) in url_and_time.items():\n",
    "    v_id = u.split(\"=\")[1]\n",
    "    fname = v_id + '.mp4'\n",
    "    vpath = os.path.join(config.video_dir,fname)\n",
    "    print (\"Reading [%s]\"%(vpath))\n",
    "    os.makedirs(os.path.join(config.image_dir,v_id),exist_ok=True) # make subdir\n",
    "    vidcap = cv2.VideoCapture(vpath) # open video capture\n",
    "    success, image = vidcap.read()\n",
    "    cnt = 0\n",
    "    while success:\n",
    "        image_path = os.path.join(config.image_dir,v_id,\"scene_{0:08}.jpg\".format(cnt))\n",
    "        cv2.imwrite(image_path,image)\n",
    "        success, image = vidcap.read()\n",
    "        cnt += 1\n",
    "        \n",
    "    \n",
    "    print (\"[%d] images saved.\"%(cnt))"
   ]
  },
  {
   "cell_type": "code",
   "execution_count": null,
   "metadata": {},
   "outputs": [],
   "source": []
  }
 ],
 "metadata": {
  "kernelspec": {
   "display_name": "Python 3",
   "language": "python",
   "name": "python3"
  },
  "language_info": {
   "codemirror_mode": {
    "name": "ipython",
    "version": 3
   },
   "file_extension": ".py",
   "mimetype": "text/x-python",
   "name": "python",
   "nbconvert_exporter": "python",
   "pygments_lexer": "ipython3",
   "version": "3.8.5"
  }
 },
 "nbformat": 4,
 "nbformat_minor": 4
}
