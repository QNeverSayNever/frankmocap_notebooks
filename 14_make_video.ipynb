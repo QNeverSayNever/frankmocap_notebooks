{
 "cells": [
  {
   "cell_type": "markdown",
   "metadata": {},
   "source": [
    "### Make videos "
   ]
  },
  {
   "cell_type": "code",
   "execution_count": 1,
   "metadata": {},
   "outputs": [
    {
     "name": "stdout",
     "output_type": "stream",
     "text": [
      "Done.\n"
     ]
    }
   ],
   "source": [
    "import config,csv,json,os,pickle,utils\n",
    "import numpy as np\n",
    "import matplotlib.pyplot as plt\n",
    "from moviepy.editor import *\n",
    "print (\"Done.\")"
   ]
  },
  {
   "cell_type": "markdown",
   "metadata": {},
   "source": [
    "### Parse `./video_path.csv`"
   ]
  },
  {
   "cell_type": "code",
   "execution_count": 2,
   "metadata": {},
   "outputs": [
    {
     "name": "stdout",
     "output_type": "stream",
     "text": [
      "Name:[MVI_0005] [0.00]s~[0.00]s\n",
      "Name:[1X5A1788] [0.00]s~[0.00]s\n",
      "Name:[1X5A1789] [0.00]s~[0.00]s\n",
      "Name:[1X5A1790] [0.00]s~[0.00]s\n",
      "Name:[MVI_0003] [0.00]s~[0.00]s\n",
      "Name:[MVI_0004] [0.00]s~[0.00]s\n",
      "video_ids:['MVI_0005', '1X5A1788', '1X5A1789', '1X5A1790', 'MVI_0003', 'MVI_0004']\n"
     ]
    }
   ],
   "source": [
    "csv_path = './video_path.csv'\n",
    "name_and_time = dict()\n",
    "with open(csv_path) as csv_file:\n",
    "    csv_reader = csv.reader(csv_file, delimiter=',')\n",
    "    cnt = 0\n",
    "    for row in csv_reader:\n",
    "        if cnt > 0: # skip the first line (header)\n",
    "            name_and_time[row[0]] = (float(row[1]), float(row[2]))\n",
    "        cnt += 1\n",
    "# Get video IDs\n",
    "video_ids = []\n",
    "for vid_name,(s_t,e_t) in name_and_time.items():\n",
    "    print (\"Name:[%s] [%.2f]s~[%.2f]s\"%(vid_name,s_t,e_t))\n",
    "    video_ids.append(vid_name)\n",
    "n_vid = len(video_ids)\n",
    "print (\"video_ids:%s\"%(video_ids))"
   ]
  },
  {
   "cell_type": "markdown",
   "metadata": {},
   "source": [
    "### Loop to make videos and save them to `videos/NAME_final.mp4`"
   ]
  },
  {
   "cell_type": "code",
   "execution_count": null,
   "metadata": {},
   "outputs": [
    {
     "name": "stdout",
     "output_type": "stream",
     "text": [
      "[0/6] [MVI_0005]\n"
     ]
    },
    {
     "name": "stderr",
     "output_type": "stream",
     "text": [
      "t:   1%|▏         | 9/614 [00:00<00:07, 82.03it/s, now=None]"
     ]
    },
    {
     "name": "stdout",
     "output_type": "stream",
     "text": [
      "Moviepy - Building video videos/MVI_0005_final.mp4.\n",
      "Moviepy - Writing video videos/MVI_0005_final.mp4\n",
      "\n"
     ]
    },
    {
     "name": "stderr",
     "output_type": "stream",
     "text": [
      "                                                               \r"
     ]
    },
    {
     "name": "stdout",
     "output_type": "stream",
     "text": [
      "Moviepy - Done !\n",
      "Moviepy - video ready videos/MVI_0005_final.mp4\n",
      "[videos/MVI_0005_final.mp4] saved.\n",
      "[1/6] [1X5A1788]\n"
     ]
    },
    {
     "name": "stderr",
     "output_type": "stream",
     "text": [
      "\r",
      "t:   0%|          | 0/909 [00:00<?, ?it/s, now=None]"
     ]
    },
    {
     "name": "stdout",
     "output_type": "stream",
     "text": [
      "Moviepy - Building video videos/1X5A1788_final.mp4.\n",
      "Moviepy - Writing video videos/1X5A1788_final.mp4\n",
      "\n"
     ]
    },
    {
     "name": "stderr",
     "output_type": "stream",
     "text": [
      "                                                               \r"
     ]
    },
    {
     "name": "stdout",
     "output_type": "stream",
     "text": [
      "Moviepy - Done !\n",
      "Moviepy - video ready videos/1X5A1788_final.mp4\n",
      "[videos/1X5A1788_final.mp4] saved.\n",
      "[2/6] [1X5A1789]\n"
     ]
    }
   ],
   "source": [
    "os.makedirs('./videos/tmp_imgs', exist_ok=True) # make a temporary folder \n",
    "for v_idx,video_id in enumerate(video_ids):\n",
    "    print (\"[%d/%d] [%s]\"%(v_idx,len(video_ids),video_id))\n",
    "    pkl_dir = os.path.join(config.skeleton_pkl_dir, video_id)\n",
    "    npz_dir = os.path.join(config.skeleton_npz_dir, video_id)\n",
    "    pkl_list = sorted(os.listdir(pkl_dir))\n",
    "    npz_list = sorted(os.listdir(npz_dir))\n",
    "\n",
    "    fig = plt.figure(figsize=(13, 7))\n",
    "    ax_1 = fig.add_subplot(121)\n",
    "    ax_2 = fig.add_subplot(122, projection='3d')\n",
    "    for ii, i in enumerate(range(len(pkl_list))):\n",
    "        fp = pkl_list[i]\n",
    "        bbox_fp = os.path.join(config.mocap_dir, video_id, 'bbox', fp[:-4]+'_bbox.json')\n",
    "        bbox = json.load(open(bbox_fp, 'rb'))\n",
    "        img_fp = os.path.join(config.image_dir, video_id, fp[:-4]+'.jpg')\n",
    "        img = plt.imread(img_fp)\n",
    "        ### get bbox size\n",
    "        bbox_np = np.array(bbox['body_bbox_list'])\n",
    "        # bbox_size = [bb[2]*bb[3] for bb in bbox_np]\n",
    "        bbox_size = [bb[0] for bb in bbox_np] # based on rightmost..\n",
    "        ### only choose the biggest bbox\n",
    "        max_idx = np.argmax(bbox_size)\n",
    "        curr_bbox = bbox_np[max_idx]\n",
    "        curr_pkl = pickle.load(open(os.path.join(pkl_dir, fp), 'rb'))\n",
    "        curr_npz = np.load(os.path.join(npz_dir, fp.replace('pkl', 'npz')))\n",
    "        ### [PKL] Plot 2D result\n",
    "        ax_1.clear()\n",
    "        ax_1.imshow(img)\n",
    "        utils.plot_2D(curr_pkl['open_pose'], config.open_pose_dict, \n",
    "                      curr_pkl['left_hand'], curr_pkl['right_hand'], config.hand_dict,\n",
    "                      curr_bbox, ax_1)\n",
    "        ### [PKL] Plot 3D result\n",
    "        ax_2.clear()\n",
    "        utils.plot_3D(curr_pkl['open_pose'],curr_pkl['left_hand'],curr_pkl['right_hand'],\n",
    "                      config.open_pose_dict, config.hand_dict, ax_2)\n",
    "        # Save image\n",
    "        fig.savefig('./videos/tmp_imgs/{0:04}.jpg'.format(ii))\n",
    "    # Make them into a video\n",
    "    tmp_img_path = ['./videos/tmp_imgs/{0:04}.jpg'.format(x) \n",
    "                    for x in range(len(pkl_list))]\n",
    "    clips = [ImageClip(m).set_duration(1/10) for m in tmp_img_path]\n",
    "    concat_clip = concatenate_videoclips(clips, method=\"compose\")\n",
    "    vid_path = 'videos/%s_final.mp4'%(video_id)\n",
    "    concat_clip.write_videofile(vid_path, fps=10) # save\n",
    "    print (\"[%s] saved.\"%(vid_path))\n",
    "\n",
    "print (\"Done.\")"
   ]
  },
  {
   "cell_type": "markdown",
   "metadata": {},
   "source": [
    "### Remove all tmp images"
   ]
  },
  {
   "cell_type": "code",
   "execution_count": null,
   "metadata": {},
   "outputs": [],
   "source": [
    "for file in os.listdir('./videos/tmp_imgs/'):\n",
    "    if file.endswith('.jpg'):\n",
    "        os.remove(os.path.join('./videos/tmp_imgs/',file))\n",
    "print (\"Done.\")"
   ]
  },
  {
   "cell_type": "code",
   "execution_count": null,
   "metadata": {},
   "outputs": [],
   "source": []
  }
 ],
 "metadata": {
  "kernelspec": {
   "display_name": "Python 3",
   "language": "python",
   "name": "python3"
  },
  "language_info": {
   "codemirror_mode": {
    "name": "ipython",
    "version": 3
   },
   "file_extension": ".py",
   "mimetype": "text/x-python",
   "name": "python",
   "nbconvert_exporter": "python",
   "pygments_lexer": "ipython3",
   "version": "3.8.5"
  }
 },
 "nbformat": 4,
 "nbformat_minor": 4
}
