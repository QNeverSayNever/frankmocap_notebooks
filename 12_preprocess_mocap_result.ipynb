{
 "cells": [
  {
   "cell_type": "markdown",
   "metadata": {},
   "source": [
    "### Save results to `.pkl` and `.npz`"
   ]
  },
  {
   "cell_type": "code",
   "execution_count": 1,
   "metadata": {},
   "outputs": [
    {
     "name": "stdout",
     "output_type": "stream",
     "text": [
      "Done.\n"
     ]
    }
   ],
   "source": [
    "import config,csv,utils,json,pickle,os\n",
    "import numpy as np\n",
    "from tqdm.notebook import tqdm\n",
    "print (\"Done.\")"
   ]
  },
  {
   "cell_type": "markdown",
   "metadata": {},
   "source": [
    "### Parse `./video_path.csv`"
   ]
  },
  {
   "cell_type": "code",
   "execution_count": 2,
   "metadata": {},
   "outputs": [
    {
     "name": "stdout",
     "output_type": "stream",
     "text": [
      "Name:[MVI_0005] [0.00]s~[0.00]s\n",
      "Name:[1X5A1788] [0.00]s~[0.00]s\n",
      "Name:[1X5A1789] [0.00]s~[0.00]s\n",
      "Name:[1X5A1790] [0.00]s~[0.00]s\n",
      "Name:[MVI_0003] [0.00]s~[0.00]s\n",
      "Name:[MVI_0004] [0.00]s~[0.00]s\n",
      "video_ids:['MVI_0005', '1X5A1788', '1X5A1789', '1X5A1790', 'MVI_0003', 'MVI_0004']\n"
     ]
    }
   ],
   "source": [
    "csv_path = './video_path.csv'\n",
    "name_and_time = dict()\n",
    "with open(csv_path) as csv_file:\n",
    "    csv_reader = csv.reader(csv_file, delimiter=',')\n",
    "    cnt = 0\n",
    "    for row in csv_reader:\n",
    "        if cnt > 0: # skip the first line (header)\n",
    "            name_and_time[row[0]] = (float(row[1]), float(row[2]))\n",
    "        cnt += 1\n",
    "# Get video IDs\n",
    "video_ids = []\n",
    "for vid_name,(s_t,e_t) in name_and_time.items():\n",
    "    print (\"Name:[%s] [%.2f]s~[%.2f]s\"%(vid_name,s_t,e_t))\n",
    "    video_ids.append(vid_name)\n",
    "n_vid = len(video_ids)\n",
    "print (\"video_ids:%s\"%(video_ids))"
   ]
  },
  {
   "cell_type": "markdown",
   "metadata": {},
   "source": [
    "### Results will be saved to\n",
    "- `./skeletons_pkl` and `./skeletons_npz`"
   ]
  },
  {
   "cell_type": "code",
   "execution_count": 3,
   "metadata": {},
   "outputs": [
    {
     "name": "stdout",
     "output_type": "stream",
     "text": [
      "[./skeletons_pkl] created.\n",
      "[./skeletons_npz] created.\n"
     ]
    }
   ],
   "source": [
    "os.makedirs(config.skeleton_pkl_dir, exist_ok=True)\n",
    "os.makedirs(config.skeleton_npz_dir, exist_ok=True)\n",
    "print (\"[./%s] created.\"%(config.skeleton_pkl_dir))\n",
    "print (\"[./%s] created.\"%(config.skeleton_npz_dir))"
   ]
  },
  {
   "cell_type": "markdown",
   "metadata": {},
   "source": [
    "### Loop"
   ]
  },
  {
   "cell_type": "code",
   "execution_count": 4,
   "metadata": {
    "scrolled": true
   },
   "outputs": [
    {
     "name": "stdout",
     "output_type": "stream",
     "text": [
      "[0] [MVI_0005]\n",
      " [mocaps/MVI_0005/bbox] created.\n",
      " [mocaps/MVI_0005/mocap] created.\n",
      " [skeletons_pkl/MVI_0005] created.\n",
      " [skeletons_npz/MVI_0005] created.\n"
     ]
    },
    {
     "data": {
      "application/vnd.jupyter.widget-view+json": {
       "model_id": "28c918d3ed20404dbcc8e9efd750900a",
       "version_major": 2,
       "version_minor": 0
      },
      "text/plain": [
       "HBox(children=(HTML(value=''), FloatProgress(value=0.0, max=613.0), HTML(value='')))"
      ]
     },
     "metadata": {},
     "output_type": "display_data"
    },
    {
     "name": "stdout",
     "output_type": "stream",
     "text": [
      "\n",
      "[1] [1X5A1788]\n",
      " [mocaps/1X5A1788/bbox] created.\n",
      " [mocaps/1X5A1788/mocap] created.\n",
      " [skeletons_pkl/1X5A1788] created.\n",
      " [skeletons_npz/1X5A1788] created.\n"
     ]
    },
    {
     "data": {
      "application/vnd.jupyter.widget-view+json": {
       "model_id": "529174e9c7504b9290ee7fe5cbc1b327",
       "version_major": 2,
       "version_minor": 0
      },
      "text/plain": [
       "HBox(children=(HTML(value=''), FloatProgress(value=0.0, max=909.0), HTML(value='')))"
      ]
     },
     "metadata": {},
     "output_type": "display_data"
    },
    {
     "name": "stdout",
     "output_type": "stream",
     "text": [
      "\n",
      "[2] [1X5A1789]\n",
      " [mocaps/1X5A1789/bbox] created.\n",
      " [mocaps/1X5A1789/mocap] created.\n",
      " [skeletons_pkl/1X5A1789] created.\n",
      " [skeletons_npz/1X5A1789] created.\n"
     ]
    },
    {
     "data": {
      "application/vnd.jupyter.widget-view+json": {
       "model_id": "cfae31ec68a14cc3b992a1ef37c1dcfa",
       "version_major": 2,
       "version_minor": 0
      },
      "text/plain": [
       "HBox(children=(HTML(value=''), FloatProgress(value=0.0, max=857.0), HTML(value='')))"
      ]
     },
     "metadata": {},
     "output_type": "display_data"
    },
    {
     "name": "stdout",
     "output_type": "stream",
     "text": [
      "\n",
      "[3] [1X5A1790]\n",
      " [mocaps/1X5A1790/bbox] created.\n",
      " [mocaps/1X5A1790/mocap] created.\n",
      " [skeletons_pkl/1X5A1790] created.\n",
      " [skeletons_npz/1X5A1790] created.\n"
     ]
    },
    {
     "data": {
      "application/vnd.jupyter.widget-view+json": {
       "model_id": "1d408c321d4d4aaf93d4c6042904af80",
       "version_major": 2,
       "version_minor": 0
      },
      "text/plain": [
       "HBox(children=(HTML(value=''), FloatProgress(value=0.0, max=630.0), HTML(value='')))"
      ]
     },
     "metadata": {},
     "output_type": "display_data"
    },
    {
     "name": "stdout",
     "output_type": "stream",
     "text": [
      "\n",
      "[4] [MVI_0003]\n",
      " [mocaps/MVI_0003/bbox] created.\n",
      " [mocaps/MVI_0003/mocap] created.\n",
      " [skeletons_pkl/MVI_0003] created.\n",
      " [skeletons_npz/MVI_0003] created.\n"
     ]
    },
    {
     "data": {
      "application/vnd.jupyter.widget-view+json": {
       "model_id": "71357c8bef464e4abed050907dd20bbd",
       "version_major": 2,
       "version_minor": 0
      },
      "text/plain": [
       "HBox(children=(HTML(value=''), FloatProgress(value=0.0, max=1025.0), HTML(value='')))"
      ]
     },
     "metadata": {},
     "output_type": "display_data"
    },
    {
     "name": "stdout",
     "output_type": "stream",
     "text": [
      "\n",
      "[5] [MVI_0004]\n",
      " [mocaps/MVI_0004/bbox] created.\n",
      " [mocaps/MVI_0004/mocap] created.\n",
      " [skeletons_pkl/MVI_0004] created.\n",
      " [skeletons_npz/MVI_0004] created.\n"
     ]
    },
    {
     "data": {
      "application/vnd.jupyter.widget-view+json": {
       "model_id": "233c1e03fe134a9cbaad842b10685abe",
       "version_major": 2,
       "version_minor": 0
      },
      "text/plain": [
       "HBox(children=(HTML(value=''), FloatProgress(value=0.0, max=964.0), HTML(value='')))"
      ]
     },
     "metadata": {},
     "output_type": "display_data"
    },
    {
     "name": "stdout",
     "output_type": "stream",
     "text": [
      "\n",
      "Done.\n"
     ]
    }
   ],
   "source": [
    "for v_idx,video_id in enumerate(video_ids):\n",
    "    result_dir = os.path.join(config.mocap_dir,video_id)\n",
    "    bbox_dir = os.path.join(result_dir, 'bbox')\n",
    "    mocap_dir = os.path.join(result_dir, 'mocap')\n",
    "    print (\"[%d] [%s]\"%(v_idx,video_id))\n",
    "    \n",
    "    # Create directories (if not exist)\n",
    "    os.makedirs(bbox_dir,exist_ok=True)\n",
    "    os.makedirs(mocap_dir,exist_ok=True)\n",
    "    pkl_dir = os.path.join(config.skeleton_pkl_dir,video_id)\n",
    "    npz_dir = os.path.join(config.skeleton_npz_dir,video_id)\n",
    "    os.makedirs(pkl_dir, exist_ok=True)\n",
    "    os.makedirs(npz_dir, exist_ok=True)\n",
    "    \n",
    "    print (\" [%s] created.\"%(bbox_dir))\n",
    "    print (\" [%s] created.\"%(mocap_dir))\n",
    "    print (\" [%s] created.\"%(pkl_dir))\n",
    "    print (\" [%s] created.\"%(npz_dir))\n",
    "    \n",
    "    for mocap_fp in tqdm(sorted(os.listdir(mocap_dir))): # for all frames\n",
    "        scene_name = mocap_fp.split('/')[-1][:14]\n",
    "        \n",
    "        bbox_fp = os.path.join(bbox_dir, scene_name+'_bbox.json')\n",
    "        mocap_fp = os.path.join(mocap_dir, scene_name+'_prediction_result.pkl')\n",
    "        \n",
    "        ### load info\n",
    "        bbox = json.load(open(bbox_fp, 'rb'))\n",
    "        mocap = pickle.load(open(mocap_fp, 'rb'))\n",
    "        \n",
    "        ### get bbox size\n",
    "        bbox_np = np.array(bbox['body_bbox_list'])\n",
    "        # bbox_size = [bb[2]*bb[3] for bb in bbox_np]\n",
    "        bbox_size = [bb[0] for bb in bbox_np]\n",
    "\n",
    "        ### only choose the biggest bbox\n",
    "        max_idx = np.argmax(bbox_size)\n",
    "        curr_body_bbox = bbox_np[max_idx]\n",
    "        curr_mocap = mocap['pred_output_list'][max_idx]\n",
    "\n",
    "        ### extract body and hand pose\n",
    "        curr_body_pose = curr_mocap['pred_joints_img']\n",
    "        curr_open_pose = curr_body_pose[:25]\n",
    "        curr_aux_pose = curr_body_pose[25:]\n",
    "\n",
    "        curr_right_hand = curr_mocap['right_hand_joints_img_coord']\n",
    "        curr_left_hand = curr_mocap['left_hand_joints_img_coord']\n",
    "        \n",
    "        # extract hand bbox\n",
    "        if None not in mocap['hand_bbox_list']:\n",
    "            curr_left_hand_bbox = np.asarray(mocap['hand_bbox_list'][max_idx]['left_hand'])\n",
    "            curr_right_hand_bbox = np.asarray(mocap['hand_bbox_list'][max_idx]['right_hand'])\n",
    "            if curr_left_hand_bbox.all() == None:\n",
    "                curr_left_hand_bbox = np.array([0, 0, 0, 0])\n",
    "            if curr_right_hand_bbox.all() == None:\n",
    "                curr_right_hand_bbox = np.array([0, 0, 0, 0])\n",
    "        else:\n",
    "            curr_left_hand_bbox = np.array([0, 0, 0, 0])\n",
    "            curr_right_hand_bbox = np.array([0, 0, 0, 0])\n",
    "            \n",
    "        ### extract simplified pose\n",
    "        curr_simple_pose = curr_open_pose[:15] # 15 by 3\n",
    "\n",
    "        ### process for .npz file.\n",
    "        left_hand_info, left_hand_array = utils.get_hand_info(curr_left_hand)\n",
    "        right_hand_info, right_hand_array = utils.get_hand_info(curr_right_hand)\n",
    "\n",
    "        left_heel_info, right_heel_info, heel_array = utils.get_heel_info(curr_open_pose)\n",
    "\n",
    "        head_info, head_array = utils.get_head_info(curr_open_pose)\n",
    "\n",
    "        ### prepare dictionary\n",
    "        pkl_saver = dict()\n",
    "        pkl_saver['open_pose'] = curr_open_pose\n",
    "        pkl_saver['aux_pose'] = curr_aux_pose\n",
    "        pkl_saver['simple_pose'] = curr_simple_pose\n",
    "        pkl_saver['left_hand'] = curr_left_hand\n",
    "        pkl_saver['right_hand'] = curr_right_hand\n",
    "        pkl_saver['hand_info'] = {'left':left_hand_info, 'right':right_hand_info}\n",
    "        pkl_saver['heel_info'] = {'left':left_heel_info, 'right':right_heel_info}\n",
    "        pkl_saver['head_info'] = head_info\n",
    "        pkl_saver['body_bbox'] = curr_body_bbox\n",
    "        pkl_saver['left_hand_bbox'] = curr_left_hand_bbox\n",
    "        pkl_saver['right_hand_bbox'] = curr_right_hand_bbox\n",
    "\n",
    "        ### prepare the array\n",
    "        npz_saver = [curr_simple_pose.flatten(), head_array, left_hand_array, right_hand_array, heel_array, \n",
    "                     curr_body_bbox, curr_left_hand_bbox, curr_right_hand_bbox]\n",
    "        npz_saver = np.concatenate(npz_saver)\n",
    "        # 0  ~ 45 : pose that was 15 by 3\n",
    "        # 45 ~ 51 : head pos(3), vec(3)\n",
    "        # 51 ~ 63 : left hand thumb vector(3), index vector(3), palm vector(3), wrist pos(3)\n",
    "        # 63 ~ 75 : right hand thumb vector(3), index vector(3), palm vector(3), wrist pos(3)\n",
    "        # 75 ~ 87 : left heel pos (3), left foot vec (3), right heel pos (3), right foot vec (3)\n",
    "        # 87 ~ 91 : body bbox (4) left hand bbox (4) right hand bbox(4)\n",
    "\n",
    "        ### save the data\n",
    "        pkl_fp = os.path.join(pkl_dir, scene_name+'.pkl')\n",
    "        npz_fp = os.path.join(npz_dir, scene_name+'.npz')\n",
    "        pickle.dump(pkl_saver, open(pkl_fp, 'wb')) # save pickle \n",
    "        np.savez(npz_fp, npz_saver) # save npz \n",
    "        \n",
    "print (\"Done.\")"
   ]
  },
  {
   "cell_type": "code",
   "execution_count": null,
   "metadata": {},
   "outputs": [],
   "source": []
  },
  {
   "cell_type": "code",
   "execution_count": null,
   "metadata": {},
   "outputs": [],
   "source": []
  }
 ],
 "metadata": {
  "kernelspec": {
   "display_name": "Python 3",
   "language": "python",
   "name": "python3"
  },
  "language_info": {
   "codemirror_mode": {
    "name": "ipython",
    "version": 3
   },
   "file_extension": ".py",
   "mimetype": "text/x-python",
   "name": "python",
   "nbconvert_exporter": "python",
   "pygments_lexer": "ipython3",
   "version": "3.8.5"
  }
 },
 "nbformat": 4,
 "nbformat_minor": 4
}
