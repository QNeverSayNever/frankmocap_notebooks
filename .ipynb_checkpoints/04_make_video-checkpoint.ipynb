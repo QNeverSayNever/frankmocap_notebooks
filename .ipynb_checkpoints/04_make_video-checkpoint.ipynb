{
 "cells": [
  {
   "cell_type": "markdown",
   "metadata": {},
   "source": [
    "### Make videos"
   ]
  },
  {
   "cell_type": "code",
   "execution_count": 1,
   "metadata": {},
   "outputs": [
    {
     "name": "stdout",
     "output_type": "stream",
     "text": [
      "Done.\n"
     ]
    }
   ],
   "source": [
    "import config,csv,utils,json,pickle,os,random\n",
    "import numpy as np\n",
    "import matplotlib.pyplot as plt\n",
    "import mpl_toolkits.mplot3d.axes3d as p3\n",
    "import matplotlib.patches as patches\n",
    "import matplotlib\n",
    "from moviepy.editor import *\n",
    "matplotlib.use('agg')\n",
    "print (\"Done.\")"
   ]
  },
  {
   "cell_type": "markdown",
   "metadata": {},
   "source": [
    "### Video indices"
   ]
  },
  {
   "cell_type": "code",
   "execution_count": 2,
   "metadata": {},
   "outputs": [
    {
     "name": "stdout",
     "output_type": "stream",
     "text": [
      "YouTube URL:[https://www.youtube.com/watch?v=xqvCmoLULNY] [37.00]s~[42.00]s\n",
      "YouTube URL:[https://www.youtube.com/watch?v=DoZzdthrzCs] [6.00]s~[53.00]s\n",
      "\n",
      "video_idx:['xqvCmoLULNY', 'DoZzdthrzCs']\n"
     ]
    }
   ],
   "source": [
    "url_and_time = dict()\n",
    "with open('video_url.csv') as csv_file:\n",
    "    csv_reader = csv.reader(csv_file, delimiter=',')\n",
    "    cnt = 0\n",
    "    for row in csv_reader:\n",
    "        if cnt > 0: # skip the first line (header)\n",
    "            url_and_time[row[0]] = (float(row[1]), float(row[2]))\n",
    "        cnt += 1\n",
    "# Get video IDs\n",
    "video_idx = []\n",
    "for u, (s_t, e_t) in url_and_time.items():\n",
    "    print (\"YouTube URL:[%s] [%.2f]s~[%.2f]s\"%(u,s_t,e_t))\n",
    "    video_idx.append(u.split(\"=\")[1])\n",
    "print (\"\\nvideo_idx:%s\"%(video_idx))"
   ]
  },
  {
   "cell_type": "markdown",
   "metadata": {},
   "source": [
    "### Loop"
   ]
  },
  {
   "cell_type": "code",
   "execution_count": 3,
   "metadata": {},
   "outputs": [
    {
     "name": "stderr",
     "output_type": "stream",
     "text": [
      "t:  26%|██▌       | 13/50 [00:00<00:00, 127.69it/s, now=None]"
     ]
    },
    {
     "name": "stdout",
     "output_type": "stream",
     "text": [
      "Moviepy - Building video videos/v_idx_final.mp4.\n",
      "Moviepy - Writing video videos/v_idx_final.mp4\n",
      "\n"
     ]
    },
    {
     "name": "stderr",
     "output_type": "stream",
     "text": [
      "                                                             \r"
     ]
    },
    {
     "name": "stdout",
     "output_type": "stream",
     "text": [
      "Moviepy - Done !\n",
      "Moviepy - video ready videos/v_idx_final.mp4\n",
      "[videos/v_idx_final.mp4] saved.\n"
     ]
    },
    {
     "name": "stderr",
     "output_type": "stream",
     "text": [
      "t:   2%|▏         | 10/471 [00:00<00:04, 95.94it/s, now=None]"
     ]
    },
    {
     "name": "stdout",
     "output_type": "stream",
     "text": [
      "Moviepy - Building video videos/v_idx_final.mp4.\n",
      "Moviepy - Writing video videos/v_idx_final.mp4\n",
      "\n"
     ]
    },
    {
     "name": "stderr",
     "output_type": "stream",
     "text": [
      "                                                               \r"
     ]
    },
    {
     "name": "stdout",
     "output_type": "stream",
     "text": [
      "Moviepy - Done !\n",
      "Moviepy - video ready videos/v_idx_final.mp4\n",
      "[videos/v_idx_final.mp4] saved.\n",
      "Done.\n"
     ]
    }
   ],
   "source": [
    "os.makedirs('./videos/tmp_imgs', exist_ok=True) # make a temporary folder \n",
    "for v_idx in video_idx:\n",
    "    pkl_dir = os.path.join(config.skeleton_pkl_dir, v_idx)\n",
    "    npz_dir = os.path.join(config.skeleton_npz_dir, v_idx)\n",
    "    pkl_list = sorted(os.listdir(pkl_dir))\n",
    "    npz_list = sorted(os.listdir(npz_dir))\n",
    "\n",
    "    fig = plt.figure(figsize=(13, 7))\n",
    "    ax_1 = fig.add_subplot(121)\n",
    "    ax_2 = fig.add_subplot(122, projection='3d')\n",
    "    for ii, i in enumerate(range(len(pkl_list))):\n",
    "        fp = pkl_list[i]\n",
    "        bbox_fp = os.path.join(config.mocap_dir, v_idx, 'bbox', fp[:-4]+'_bbox.json')\n",
    "        bbox = json.load(open(bbox_fp, 'rb'))\n",
    "        img_fp = os.path.join(config.image_dir, v_idx, fp[:-4]+'.jpg')\n",
    "        img = plt.imread(img_fp)\n",
    "\n",
    "        ### get bbox size\n",
    "        bbox_np = np.array(bbox['body_bbox_list'])\n",
    "        bbox_size = [bb[2]*bb[3] for bb in bbox_np]\n",
    "\n",
    "        ### only choose the biggest bbox\n",
    "        max_idx = np.argmax(bbox_size)\n",
    "        curr_bbox = bbox_np[max_idx]\n",
    "\n",
    "        curr_pkl = pickle.load(open(os.path.join(pkl_dir, fp), 'rb'))\n",
    "        curr_npz = np.load(os.path.join(npz_dir, fp.replace('pkl', 'npz')))\n",
    "\n",
    "        ### [PKL] Plot 2D result\n",
    "        ax_1.clear()\n",
    "        ax_1.imshow(img)\n",
    "        utils.plot_2D(curr_pkl['open_pose'], config.open_pose_dict, \n",
    "                      curr_pkl['left_hand'], curr_pkl['right_hand'], config.hand_dict,\n",
    "                      curr_bbox, ax_1)\n",
    "        ### [PKL] Plot 3D result\n",
    "        ax_2.clear()\n",
    "        utils.plot_3D(curr_pkl['open_pose'], curr_pkl['left_hand'], curr_pkl['right_hand'],\n",
    "                      config.open_pose_dict, config.hand_dict, ax_2)\n",
    "        # Save image\n",
    "        fig.savefig('./videos/tmp_imgs/{0:04}.jpg'.format(ii))\n",
    "    # Make them into a video\n",
    "    tmp_img_path = ['./videos/tmp_imgs/{0:04}.jpg'.format(x) for x in range(len(pkl_list))]\n",
    "    clips = [ImageClip(m).set_duration(1/10) for m in tmp_img_path]\n",
    "    concat_clip = concatenate_videoclips(clips, method=\"compose\")\n",
    "    vid_path = 'videos/%s_final.mp4'%(v_idx)\n",
    "    concat_clip.write_videofile(vid_path, fps=10) # save\n",
    "    print (\"[%s] saved.\"%(vid_path))\n",
    "    \n",
    "print (\"Done.\")"
   ]
  },
  {
   "cell_type": "code",
   "execution_count": null,
   "metadata": {},
   "outputs": [],
   "source": []
  }
 ],
 "metadata": {
  "kernelspec": {
   "display_name": "Python 3",
   "language": "python",
   "name": "python3"
  },
  "language_info": {
   "codemirror_mode": {
    "name": "ipython",
    "version": 3
   },
   "file_extension": ".py",
   "mimetype": "text/x-python",
   "name": "python",
   "nbconvert_exporter": "python",
   "pygments_lexer": "ipython3",
   "version": "3.8.5"
  }
 },
 "nbformat": 4,
 "nbformat_minor": 4
}
