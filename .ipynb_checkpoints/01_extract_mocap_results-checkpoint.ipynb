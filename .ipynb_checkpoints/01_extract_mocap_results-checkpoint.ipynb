{
 "cells": [
  {
   "cell_type": "markdown",
   "metadata": {},
   "source": [
    "### Run FrankMoCap to extract poses from the images"
   ]
  },
  {
   "cell_type": "code",
   "execution_count": 1,
   "metadata": {},
   "outputs": [
    {
     "name": "stdout",
     "output_type": "stream",
     "text": [
      "Done.\n"
     ]
    }
   ],
   "source": [
    "import config,csv,os,subprocess\n",
    "print (\"Done.\")"
   ]
  },
  {
   "cell_type": "markdown",
   "metadata": {},
   "source": [
    "### Read which video to process"
   ]
  },
  {
   "cell_type": "code",
   "execution_count": 2,
   "metadata": {},
   "outputs": [
    {
     "name": "stdout",
     "output_type": "stream",
     "text": [
      "YouTube URL:[https://www.youtube.com/watch?v=xqvCmoLULNY] [37.00]s~[42.00]s\n",
      "YouTube URL:[https://www.youtube.com/watch?v=DoZzdthrzCs] [6.00]s~[53.00]s\n",
      "\n",
      "video_ids:['xqvCmoLULNY', 'DoZzdthrzCs']\n"
     ]
    }
   ],
   "source": [
    "url_and_time = dict()\n",
    "with open('video_url.csv') as csv_file:\n",
    "    csv_reader = csv.reader(csv_file, delimiter=',')\n",
    "    cnt = 0\n",
    "    for row in csv_reader:\n",
    "        if cnt > 0: # skip the first line (header)\n",
    "            url_and_time[row[0]] = (float(row[1]), float(row[2]))\n",
    "        cnt += 1\n",
    "# Get video IDs\n",
    "video_ids = []\n",
    "for u, (s_t, e_t) in url_and_time.items():\n",
    "    print (\"YouTube URL:[%s] [%.2f]s~[%.2f]s\"%(u,s_t,e_t))\n",
    "    video_ids.append(u.split(\"=\")[1])\n",
    "print (\"\\nvideo_ids:%s\"%(video_ids))"
   ]
  },
  {
   "cell_type": "markdown",
   "metadata": {},
   "source": [
    "### Get target paths"
   ]
  },
  {
   "cell_type": "code",
   "execution_count": 3,
   "metadata": {},
   "outputs": [
    {
     "name": "stdout",
     "output_type": "stream",
     "text": [
      "config.read_type:[images]\n",
      " target_path:[/daintlab/home/rilab/github/frankmocap_notebooks/images/xqvCmoLULNY]\n",
      " target_path:[/daintlab/home/rilab/github/frankmocap_notebooks/images/DoZzdthrzCs]\n"
     ]
    }
   ],
   "source": [
    "video_abs_dir = os.path.join(config.repo_abs_path, config.video_dir)\n",
    "image_abs_dir = os.path.join(config.repo_abs_path, config.image_dir)\n",
    "if config.read_type == 'videos':\n",
    "    target_paths = [os.path.join(video_abs_dir, v_id+'.mp4') for v_id in video_ids]\n",
    "elif config.read_type == 'images':\n",
    "    target_paths = [os.path.join(image_abs_dir, v_id) for v_id in video_ids]\n",
    "print (\"config.read_type:[%s]\"%(config.read_type))\n",
    "for target_path in target_paths:\n",
    "    print (\" target_path:[%s]\"%(target_path))"
   ]
  },
  {
   "cell_type": "markdown",
   "metadata": {},
   "source": [
    "### Make mocap directory (./mocaps/NAME)"
   ]
  },
  {
   "cell_type": "code",
   "execution_count": 4,
   "metadata": {},
   "outputs": [
    {
     "name": "stdout",
     "output_type": "stream",
     "text": [
      "[./mocaps/xqvCmoLULNY] created.\n",
      "[./mocaps/DoZzdthrzCs] created.\n"
     ]
    }
   ],
   "source": [
    "mocap_abs_dir = os.path.join(config.repo_abs_path, config.mocap_dir)\n",
    "for v_id in video_ids:\n",
    "    folder_path = os.path.join(config.mocap_dir,v_id)\n",
    "    os.makedirs(folder_path,exist_ok=True)\n",
    "    print (\"[./%s] created.\"%(folder_path))"
   ]
  },
  {
   "cell_type": "markdown",
   "metadata": {},
   "source": [
    "### Run FrankMoCap (takes some time)"
   ]
  },
  {
   "cell_type": "code",
   "execution_count": 5,
   "metadata": {},
   "outputs": [
    {
     "name": "stdout",
     "output_type": "stream",
     "text": [
      "Things will be saved into [/daintlab/home/rilab/github/frankmocap_notebooks/mocaps]\n"
     ]
    }
   ],
   "source": [
    "print (\"Things will be saved into [%s]\"%(mocap_abs_dir))"
   ]
  },
  {
   "cell_type": "markdown",
   "metadata": {},
   "source": [
    "### This will save results to\n",
    "- mocaps/NAME/bbox/scene_XXXX_bbox.json\n",
    "- mocaps/NAME/mocapsecne_XXXX_prediction_result.pkl"
   ]
  },
  {
   "cell_type": "code",
   "execution_count": 6,
   "metadata": {},
   "outputs": [
    {
     "name": "stdout",
     "output_type": "stream",
     "text": [
      "Change the dir to [/daintlab/home/rilab/github/frankmocap_notebooks/frankmocap]\n",
      "Processing [xqvCmoLULNY] ... It would take a long time...\n",
      "Processing [DoZzdthrzCs] ... It would take a long time...\n",
      "Change the dir to [/daintlab/home/rilab/github/frankmocap_notebooks]\n",
      "Done.\n"
     ]
    }
   ],
   "source": [
    "folder_path = os.path.join(config.repo_abs_path,'frankmocap')\n",
    "print (\"Change the dir to [%s]\"%(folder_path))\n",
    "os.chdir(folder_path) # change the working directory\n",
    "## Run for only one video. The frankmocap generates error at the end and yet I don't know why \n",
    "for process_ids in range(len(video_ids)):\n",
    "    cmd = ['python', '-m', 'demo.demo_frankmocap', \n",
    "           '--input_path', target_paths[process_ids], \n",
    "           '--out_dir', os.path.join(mocap_abs_dir, video_ids[process_ids]),\n",
    "           '--save_pred_pkl', '--no_display', '--save_bbox_output'] \n",
    "    print('Processing [%s] ... It would take a long time...'%(video_ids[process_ids]))\n",
    "    subprocess.run(cmd) # run the frank mocap \n",
    "\n",
    "print (\"Change the dir to [%s]\"%(config.repo_abs_path))\n",
    "os.chdir(config.repo_abs_path)\n",
    "print (\"Done.\")"
   ]
  },
  {
   "cell_type": "code",
   "execution_count": null,
   "metadata": {},
   "outputs": [],
   "source": []
  }
 ],
 "metadata": {
  "kernelspec": {
   "display_name": "Python 3",
   "language": "python",
   "name": "python3"
  },
  "language_info": {
   "codemirror_mode": {
    "name": "ipython",
    "version": 3
   },
   "file_extension": ".py",
   "mimetype": "text/x-python",
   "name": "python",
   "nbconvert_exporter": "python",
   "pygments_lexer": "ipython3",
   "version": "3.8.5"
  }
 },
 "nbformat": 4,
 "nbformat_minor": 4
}
