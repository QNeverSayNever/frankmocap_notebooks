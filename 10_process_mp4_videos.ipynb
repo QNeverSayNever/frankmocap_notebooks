{
 "cells": [
  {
   "cell_type": "markdown",
   "metadata": {},
   "source": [
    "### Extract images in `video_path.csv` in `/source_videos`"
   ]
  },
  {
   "cell_type": "code",
   "execution_count": 1,
   "metadata": {},
   "outputs": [
    {
     "name": "stdout",
     "output_type": "stream",
     "text": [
      "Done.\n"
     ]
    }
   ],
   "source": [
    "import config,csv,cv2,glob,os\n",
    "from moviepy.editor import *\n",
    "print (\"Done.\")"
   ]
  },
  {
   "cell_type": "markdown",
   "metadata": {},
   "source": [
    "### Get video names from `./video_path.csv`"
   ]
  },
  {
   "cell_type": "code",
   "execution_count": 2,
   "metadata": {},
   "outputs": [
    {
     "name": "stdout",
     "output_type": "stream",
     "text": [
      "Name:[MVI_0005] [0.00]s~[0.00]s\n",
      "Name:[1X5A1788] [0.00]s~[0.00]s\n",
      "Name:[1X5A1789] [0.00]s~[0.00]s\n",
      "Name:[1X5A1790] [0.00]s~[0.00]s\n",
      "Name:[MVI_0003] [0.00]s~[0.00]s\n",
      "Name:[MVI_0004] [0.00]s~[0.00]s\n",
      "video_ids:['MVI_0005', '1X5A1788', '1X5A1789', '1X5A1790', 'MVI_0003', 'MVI_0004']\n"
     ]
    }
   ],
   "source": [
    "csv_path = './video_path.csv'\n",
    "name_and_time = dict()\n",
    "with open(csv_path) as csv_file:\n",
    "    csv_reader = csv.reader(csv_file, delimiter=',')\n",
    "    cnt = 0\n",
    "    for row in csv_reader:\n",
    "        if cnt > 0: # skip the first line (header)\n",
    "            name_and_time[row[0]] = (float(row[1]), float(row[2]))\n",
    "        cnt += 1\n",
    "# Get video IDs\n",
    "video_ids = []\n",
    "for vid_name,(s_t,e_t) in name_and_time.items():\n",
    "    print (\"Name:[%s] [%.2f]s~[%.2f]s\"%(vid_name,s_t,e_t))\n",
    "    video_ids.append(vid_name)\n",
    "n_vid = len(video_ids)\n",
    "print (\"video_ids:%s\"%(video_ids))"
   ]
  },
  {
   "cell_type": "markdown",
   "metadata": {},
   "source": [
    "### Load videos in `./source_videos` and trim to `./source_videos/NAME_clip.mp4`"
   ]
  },
  {
   "cell_type": "code",
   "execution_count": 3,
   "metadata": {
    "scrolled": true
   },
   "outputs": [
    {
     "name": "stderr",
     "output_type": "stream",
     "text": [
      "chunk:   6%|▋         | 87/1352 [00:00<00:01, 858.72it/s, now=None]"
     ]
    },
    {
     "name": "stdout",
     "output_type": "stream",
     "text": [
      "Moviepy - Building video ./source_videos/MVI_0005_clip.mp4.\n",
      "MoviePy - Writing audio in MVI_0005_clipTEMP_MPY_wvf_snd.mp3\n"
     ]
    },
    {
     "name": "stderr",
     "output_type": "stream",
     "text": [
      "t:   1%|          | 6/613 [00:00<00:10, 58.61it/s, now=None]          "
     ]
    },
    {
     "name": "stdout",
     "output_type": "stream",
     "text": [
      "MoviePy - Done.\n",
      "Moviepy - Writing video ./source_videos/MVI_0005_clip.mp4\n",
      "\n"
     ]
    },
    {
     "name": "stderr",
     "output_type": "stream",
     "text": [
      "                                                              \r"
     ]
    },
    {
     "name": "stdout",
     "output_type": "stream",
     "text": [
      "Moviepy - Done !\n",
      "Moviepy - video ready ./source_videos/MVI_0005_clip.mp4\n",
      "[0/6](0.0~0.0) [./source_videos/MVI_0005.mp4]=>[./source_videos/MVI_0005_clip.mp4]\n"
     ]
    },
    {
     "name": "stderr",
     "output_type": "stream",
     "text": [
      "chunk:   5%|▌         | 106/2004 [00:00<00:01, 1057.97it/s, now=None]"
     ]
    },
    {
     "name": "stdout",
     "output_type": "stream",
     "text": [
      "Moviepy - Building video ./source_videos/1X5A1788_clip.mp4.\n",
      "MoviePy - Writing audio in 1X5A1788_clipTEMP_MPY_wvf_snd.mp3\n"
     ]
    },
    {
     "name": "stderr",
     "output_type": "stream",
     "text": [
      "t:   1%|          | 6/909 [00:00<00:16, 54.64it/s, now=None]          "
     ]
    },
    {
     "name": "stdout",
     "output_type": "stream",
     "text": [
      "MoviePy - Done.\n",
      "Moviepy - Writing video ./source_videos/1X5A1788_clip.mp4\n",
      "\n"
     ]
    },
    {
     "name": "stderr",
     "output_type": "stream",
     "text": [
      "                                                              \r"
     ]
    },
    {
     "name": "stdout",
     "output_type": "stream",
     "text": [
      "Moviepy - Done !\n",
      "Moviepy - video ready ./source_videos/1X5A1788_clip.mp4\n",
      "[1/6](0.0~0.0) [./source_videos/1X5A1788.mp4]=>[./source_videos/1X5A1788_clip.mp4]\n"
     ]
    },
    {
     "name": "stderr",
     "output_type": "stream",
     "text": [
      "chunk:   5%|▌         | 102/1889 [00:00<00:01, 975.84it/s, now=None]"
     ]
    },
    {
     "name": "stdout",
     "output_type": "stream",
     "text": [
      "Moviepy - Building video ./source_videos/1X5A1789_clip.mp4.\n",
      "MoviePy - Writing audio in 1X5A1789_clipTEMP_MPY_wvf_snd.mp3\n"
     ]
    },
    {
     "name": "stderr",
     "output_type": "stream",
     "text": [
      "t:   1%|          | 6/857 [00:00<00:16, 51.89it/s, now=None]          "
     ]
    },
    {
     "name": "stdout",
     "output_type": "stream",
     "text": [
      "MoviePy - Done.\n",
      "Moviepy - Writing video ./source_videos/1X5A1789_clip.mp4\n",
      "\n"
     ]
    },
    {
     "name": "stderr",
     "output_type": "stream",
     "text": [
      "                                                              \r"
     ]
    },
    {
     "name": "stdout",
     "output_type": "stream",
     "text": [
      "Moviepy - Done !\n",
      "Moviepy - video ready ./source_videos/1X5A1789_clip.mp4\n",
      "[2/6](0.0~0.0) [./source_videos/1X5A1789.mp4]=>[./source_videos/1X5A1789_clip.mp4]\n"
     ]
    },
    {
     "name": "stderr",
     "output_type": "stream",
     "text": [
      "chunk:   7%|▋         | 102/1389 [00:00<00:01, 1000.29it/s, now=None]"
     ]
    },
    {
     "name": "stdout",
     "output_type": "stream",
     "text": [
      "Moviepy - Building video ./source_videos/1X5A1790_clip.mp4.\n",
      "MoviePy - Writing audio in 1X5A1790_clipTEMP_MPY_wvf_snd.mp3\n"
     ]
    },
    {
     "name": "stderr",
     "output_type": "stream",
     "text": [
      "t:   1%|          | 6/630 [00:00<00:11, 54.17it/s, now=None]          "
     ]
    },
    {
     "name": "stdout",
     "output_type": "stream",
     "text": [
      "MoviePy - Done.\n",
      "Moviepy - Writing video ./source_videos/1X5A1790_clip.mp4\n",
      "\n"
     ]
    },
    {
     "name": "stderr",
     "output_type": "stream",
     "text": [
      "                                                              \r"
     ]
    },
    {
     "name": "stdout",
     "output_type": "stream",
     "text": [
      "Moviepy - Done !\n",
      "Moviepy - video ready ./source_videos/1X5A1790_clip.mp4\n",
      "[3/6](0.0~0.0) [./source_videos/1X5A1790.mp4]=>[./source_videos/1X5A1790_clip.mp4]\n"
     ]
    },
    {
     "name": "stderr",
     "output_type": "stream",
     "text": [
      "chunk:   4%|▍         | 89/2259 [00:00<00:02, 881.78it/s, now=None]"
     ]
    },
    {
     "name": "stdout",
     "output_type": "stream",
     "text": [
      "Moviepy - Building video ./source_videos/MVI_0003_clip.mp4.\n",
      "MoviePy - Writing audio in MVI_0003_clipTEMP_MPY_wvf_snd.mp3\n"
     ]
    },
    {
     "name": "stderr",
     "output_type": "stream",
     "text": [
      "t:   1%|          | 6/1025 [00:00<00:20, 48.93it/s, now=None]         "
     ]
    },
    {
     "name": "stdout",
     "output_type": "stream",
     "text": [
      "MoviePy - Done.\n",
      "Moviepy - Writing video ./source_videos/MVI_0003_clip.mp4\n",
      "\n"
     ]
    },
    {
     "name": "stderr",
     "output_type": "stream",
     "text": [
      "                                                                \r"
     ]
    },
    {
     "name": "stdout",
     "output_type": "stream",
     "text": [
      "Moviepy - Done !\n",
      "Moviepy - video ready ./source_videos/MVI_0003_clip.mp4\n",
      "[4/6](0.0~0.0) [./source_videos/MVI_0003.mp4]=>[./source_videos/MVI_0003_clip.mp4]\n"
     ]
    },
    {
     "name": "stderr",
     "output_type": "stream",
     "text": [
      "chunk:   4%|▍         | 85/2124 [00:00<00:02, 840.91it/s, now=None]"
     ]
    },
    {
     "name": "stdout",
     "output_type": "stream",
     "text": [
      "Moviepy - Building video ./source_videos/MVI_0004_clip.mp4.\n",
      "MoviePy - Writing audio in MVI_0004_clipTEMP_MPY_wvf_snd.mp3\n"
     ]
    },
    {
     "name": "stderr",
     "output_type": "stream",
     "text": [
      "t:   1%|          | 6/964 [00:00<00:17, 56.33it/s, now=None]          "
     ]
    },
    {
     "name": "stdout",
     "output_type": "stream",
     "text": [
      "MoviePy - Done.\n",
      "Moviepy - Writing video ./source_videos/MVI_0004_clip.mp4\n",
      "\n"
     ]
    },
    {
     "name": "stderr",
     "output_type": "stream",
     "text": [
      "                                                              \r"
     ]
    },
    {
     "name": "stdout",
     "output_type": "stream",
     "text": [
      "Moviepy - Done !\n",
      "Moviepy - video ready ./source_videos/MVI_0004_clip.mp4\n",
      "[5/6](0.0~0.0) [./source_videos/MVI_0004.mp4]=>[./source_videos/MVI_0004_clip.mp4]\n",
      "Done.\n"
     ]
    }
   ],
   "source": [
    "vid_folder = './source_videos/'\n",
    "for v_idx,(video_id,(s_t,e_t)) in enumerate(name_and_time.items()):\n",
    "    vid_path = os.path.join(vid_folder,video_id+'.mp4')\n",
    "    vid_clip_path = os.path.join(vid_folder,video_id+'_clip.mp4')\n",
    "    clip = VideoFileClip(vid_path)\n",
    "    if e_t > 0:\n",
    "        clip = clip.subclip(s_t, e_t) # trim\n",
    "    clip = clip.resize(height=config.vid_height) # resize\n",
    "    clip.write_videofile(vid_clip_path,fps=config.fps) # write\n",
    "    clip.reader.close()\n",
    "    print (\"[%d/%d](%.1f~%.1f) [%s]=>[%s]\"%\n",
    "           (v_idx,n_vid,s_t,e_t,vid_path,vid_clip_path))\n",
    "print (\"Done.\")"
   ]
  },
  {
   "cell_type": "markdown",
   "metadata": {},
   "source": [
    "### Save images to `./images/NAME/scene_XXXXXX.jpg` from `./source_videos/NAME_clip.mp4`"
   ]
  },
  {
   "cell_type": "code",
   "execution_count": 4,
   "metadata": {},
   "outputs": [
    {
     "name": "stdout",
     "output_type": "stream",
     "text": [
      "[././images] created.\n",
      "\n",
      "[0/6] [613] images saved from [./source_videos/MVI_0005_clip.mp4] to [./images/MVI_0005].\n",
      "[1/6] [909] images saved from [./source_videos/1X5A1788_clip.mp4] to [./images/1X5A1788].\n",
      "[2/6] [857] images saved from [./source_videos/1X5A1789_clip.mp4] to [./images/1X5A1789].\n",
      "[3/6] [630] images saved from [./source_videos/1X5A1790_clip.mp4] to [./images/1X5A1790].\n",
      "[4/6] [1025] images saved from [./source_videos/MVI_0003_clip.mp4] to [./images/MVI_0003].\n",
      "[5/6] [964] images saved from [./source_videos/MVI_0004_clip.mp4] to [./images/MVI_0004].\n",
      "Done.\n"
     ]
    }
   ],
   "source": [
    "image_dir = './images'\n",
    "os.makedirs(image_dir,exist_ok=True)\n",
    "print (\"[./%s] created.\\n\"%(image_dir))\n",
    "for v_idx,(video_id,(s_t,e_t)) in enumerate(name_and_time.items()):\n",
    "    vid_clip_path = os.path.join(vid_folder,video_id+'_clip.mp4')\n",
    "    # Make sub-directory\n",
    "    sub_dir = os.path.join(image_dir,video_id)\n",
    "    os.makedirs(sub_dir,exist_ok=True) # make subdir\n",
    "    vidcap = cv2.VideoCapture(vid_clip_path) # open video capture\n",
    "    success,image = vidcap.read()\n",
    "    cnt = 0\n",
    "    while success:\n",
    "        image_path = os.path.join(image_dir,video_id,\"scene_{0:08}.jpg\".format(cnt))\n",
    "        cv2.imwrite(image_path,image)\n",
    "        success,image = vidcap.read()\n",
    "        cnt += 1\n",
    "    print (\"[%d/%d] [%d] images saved from [%s] to [%s].\"%\n",
    "           (v_idx,n_vid,cnt,vid_clip_path,sub_dir))\n",
    "print (\"Done.\")"
   ]
  },
  {
   "cell_type": "code",
   "execution_count": null,
   "metadata": {},
   "outputs": [],
   "source": []
  }
 ],
 "metadata": {
  "kernelspec": {
   "display_name": "Python 3",
   "language": "python",
   "name": "python3"
  },
  "language_info": {
   "codemirror_mode": {
    "name": "ipython",
    "version": 3
   },
   "file_extension": ".py",
   "mimetype": "text/x-python",
   "name": "python",
   "nbconvert_exporter": "python",
   "pygments_lexer": "ipython3",
   "version": "3.8.5"
  }
 },
 "nbformat": 4,
 "nbformat_minor": 4
}
