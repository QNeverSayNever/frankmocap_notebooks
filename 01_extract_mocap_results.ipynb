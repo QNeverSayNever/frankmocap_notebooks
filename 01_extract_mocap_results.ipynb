{
 "cells": [
  {
   "cell_type": "code",
   "execution_count": 1,
   "metadata": {},
   "outputs": [],
   "source": [
    "import config\n",
    "import os\n",
    "import subprocess"
   ]
  },
  {
   "cell_type": "code",
   "execution_count": 2,
   "metadata": {},
   "outputs": [],
   "source": [
    "video_ids = [fp.split('.')[0] for fp in os.listdir(config.video_dir) if fp[0]!='.']\n",
    "video_abs_dir = os.path.join(config.repo_abs_path, config.video_dir)\n",
    "image_abs_dir = os.path.join(config.repo_abs_path, config.image_dir)\n",
    "if config.read_type == 'videos':\n",
    "    target_paths = [os.path.join(video_abs_dir, v_id+'.mp4') for v_id in video_ids]\n",
    "elif config.read_type == 'images':\n",
    "    target_paths = [os.path.join(image_abs_dir, v_id) for v_id in video_ids]"
   ]
  },
  {
   "cell_type": "code",
   "execution_count": 3,
   "metadata": {},
   "outputs": [
    {
     "name": "stdout",
     "output_type": "stream",
     "text": [
      "['9WhpAVOSyl8']\n"
     ]
    }
   ],
   "source": [
    "mocap_abs_dir = os.path.join(config.repo_abs_path, config.mocap_dir)\n",
    "for v_id in video_ids:\n",
    "    os.makedirs(os.path.join(config.mocap_dir, v_id), exist_ok=True)\n",
    "print(video_ids)"
   ]
  },
  {
   "cell_type": "code",
   "execution_count": 4,
   "metadata": {
    "scrolled": true
   },
   "outputs": [
    {
     "name": "stdout",
     "output_type": "stream",
     "text": [
      "Processing 9WhpAVOSyl8... It would take a long time...\n"
     ]
    }
   ],
   "source": [
    "os.chdir(os.path.join(config.repo_abs_path, 'frankmocap'))\n",
    "\n",
    "## Run for only one video. The frankmocap generates error at the end and yet I don't know why \n",
    "for process_ids in range(len(video_ids)):\n",
    "    cmd = ['python', '-m', 'demo.demo_frankmocap', \n",
    "           '--input_path', target_paths[process_ids], \n",
    "           '--out_dir', os.path.join(mocap_abs_dir, video_ids[process_ids]),\n",
    "           '--save_pred_pkl', '--no_display', '--save_bbox_output'] \n",
    "    print('Processing {}... It would take a long time...'.format(video_ids[process_ids]))\n",
    "    subprocess.run(cmd)\n",
    "\n",
    "\n",
    "os.chdir(config.repo_abs_path)"
   ]
  }
 ],
 "metadata": {
  "kernelspec": {
   "display_name": "venv_frankmocap",
   "language": "python",
   "name": "venv_frankmocap"
  },
  "language_info": {
   "codemirror_mode": {
    "name": "ipython",
    "version": 3
   },
   "file_extension": ".py",
   "mimetype": "text/x-python",
   "name": "python",
   "nbconvert_exporter": "python",
   "pygments_lexer": "ipython3",
   "version": "3.7.9"
  }
 },
 "nbformat": 4,
 "nbformat_minor": 4
}
