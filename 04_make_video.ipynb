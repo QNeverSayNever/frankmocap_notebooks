{
 "cells": [
  {
   "cell_type": "code",
   "execution_count": 1,
   "metadata": {},
   "outputs": [],
   "source": [
    "import config\n",
    "import utils\n",
    "\n",
    "import json\n",
    "import pickle\n",
    "import os\n",
    "import random\n",
    "import numpy as np\n",
    "\n",
    "import matplotlib.pyplot as plt\n",
    "import mpl_toolkits.mplot3d.axes3d as p3\n",
    "import matplotlib.patches as patches\n",
    "\n",
    "import matplotlib\n",
    "matplotlib.use('agg')"
   ]
  },
  {
   "cell_type": "code",
   "execution_count": 2,
   "metadata": {},
   "outputs": [],
   "source": [
    "video_idx = [v_idx for v_idx in os.listdir(config.mocap_dir) if v_idx[0]!='.']\n",
    "\n",
    "# choose your wanted idx\n",
    "v_idx = video_idx[0]\n",
    "\n",
    "os.makedirs('./tmp_imgs', exist_ok=True)"
   ]
  },
  {
   "cell_type": "markdown",
   "metadata": {},
   "source": [
    "### Warning : check len(pkl_list) before. too much number of images can make your server's RAM explode"
   ]
  },
  {
   "cell_type": "code",
   "execution_count": 3,
   "metadata": {
    "scrolled": false
   },
   "outputs": [],
   "source": [
    "pkl_dir = os.path.join(config.skeleton_pkl_dir, v_idx)\n",
    "npz_dir = os.path.join(config.skeleton_npz_dir, v_idx)\n",
    "\n",
    "pkl_list = sorted(os.listdir(pkl_dir))\n",
    "npz_list = sorted(os.listdir(npz_dir))\n",
    "\n",
    "fig = plt.figure(figsize=(13, 7))\n",
    "ax_1 = fig.add_subplot(121)\n",
    "ax_2 = fig.add_subplot(122, projection='3d')\n",
    "\n",
    "# sample one example\n",
    "for ii, i in enumerate(range(len(pkl_list))):\n",
    "    fp = pkl_list[i]\n",
    "    bbox_fp = os.path.join(config.mocap_dir, v_idx, 'bbox', fp[:-4]+'_bbox.json')\n",
    "    bbox = json.load(open(bbox_fp, 'rb'))\n",
    "    img_fp = os.path.join(config.image_dir, v_idx, fp[:-4]+'.jpg')\n",
    "    img = plt.imread(img_fp)\n",
    "\n",
    "    ### get bbox size\n",
    "    bbox_np = np.array(bbox['body_bbox_list'])\n",
    "    bbox_size = [bb[2]*bb[3] for bb in bbox_np]\n",
    "\n",
    "    ### only choose the biggest bbox\n",
    "    max_idx = np.argmax(bbox_size)\n",
    "    curr_bbox = bbox_np[max_idx]\n",
    "\n",
    "    curr_pkl = pickle.load(open(os.path.join(pkl_dir, fp), 'rb'))\n",
    "    curr_npz = np.load(os.path.join(npz_dir, fp.replace('pkl', 'npz')))\n",
    "\n",
    "    ### [PKL] Plot 2D result\n",
    "    ax_1.clear()\n",
    "    ax_1.imshow(img)\n",
    "    utils.plot_2D(curr_pkl['open_pose'], config.open_pose_dict, \n",
    "                  curr_pkl['left_hand'], curr_pkl['right_hand'], config.hand_dict,\n",
    "                  curr_bbox, ax_1)\n",
    "\n",
    "\n",
    "    ### [PKL] Plot 3D result\n",
    "    ax_2.clear()\n",
    "\n",
    "    utils.plot_3D(curr_pkl['open_pose'], curr_pkl['left_hand'], curr_pkl['right_hand'],\n",
    "                  config.open_pose_dict, config.hand_dict, ax_2)\n",
    "\n",
    "    fig.savefig('./tmp_imgs/{0:04}.jpg'.format(ii))"
   ]
  },
  {
   "cell_type": "code",
   "execution_count": 4,
   "metadata": {},
   "outputs": [
    {
     "name": "stderr",
     "output_type": "stream",
     "text": [
      "\r",
      "t:   0%|          | 0/301 [00:00<?, ?it/s, now=None]"
     ]
    },
    {
     "name": "stdout",
     "output_type": "stream",
     "text": [
      "Moviepy - Building video test_video.mp4.\n",
      "Moviepy - Writing video test_video.mp4\n",
      "\n"
     ]
    },
    {
     "name": "stderr",
     "output_type": "stream",
     "text": [
      "                                                              \r"
     ]
    },
    {
     "name": "stdout",
     "output_type": "stream",
     "text": [
      "Moviepy - Done !\n",
      "Moviepy - video ready test_video.mp4\n"
     ]
    }
   ],
   "source": [
    "from moviepy.editor import *\n",
    "\n",
    "tmp_img_path = ['./tmp_imgs/{0:04}.jpg'.format(x) for x in range(len(pkl_list))]\n",
    "\n",
    "clips = [ImageClip(m).set_duration(1/10) for m in tmp_img_path]\n",
    "\n",
    "concat_clip = concatenate_videoclips(clips, method=\"compose\")\n",
    "concat_clip.write_videofile(\"test_video.mp4\", fps=10)\n"
   ]
  }
 ],
 "metadata": {
  "kernelspec": {
   "display_name": "pytorch",
   "language": "python",
   "name": "pytorch"
  },
  "language_info": {
   "codemirror_mode": {
    "name": "ipython",
    "version": 3
   },
   "file_extension": ".py",
   "mimetype": "text/x-python",
   "name": "python",
   "nbconvert_exporter": "python",
   "pygments_lexer": "ipython3",
   "version": "3.7.9"
  }
 },
 "nbformat": 4,
 "nbformat_minor": 4
}
